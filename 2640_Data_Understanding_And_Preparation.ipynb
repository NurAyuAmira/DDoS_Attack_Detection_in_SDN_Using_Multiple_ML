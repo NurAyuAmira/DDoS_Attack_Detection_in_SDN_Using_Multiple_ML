{
  "cells": [
    {
      "cell_type": "markdown",
      "metadata": {
        "id": "NP6G6sOIqiED"
      },
      "source": [
        "# Load and Read Dataset (CIC-DDoS2019 - Day 2)"
      ]
    },
    {
      "cell_type": "code",
      "execution_count": 1,
      "metadata": {
        "colab": {
          "base_uri": "https://localhost:8080/"
        },
        "id": "TaXI1PlNqiEF",
        "outputId": "5a66a4c3-0e82-4144-8743-c4273b5c252a"
      },
      "outputs": [
        {
          "name": "stderr",
          "output_type": "stream",
          "text": [
            "C:\\Users\\Nur Ayu Amira\\AppData\\Local\\Temp\\ipykernel_42868\\684175750.py:8: DtypeWarning: Columns (85) have mixed types. Specify dtype option on import or set low_memory=False.\n",
            "  df = pd.read_csv('CICDDoS2019.csv')\n"
          ]
        },
        {
          "data": {
            "text/html": [
              "<div>\n",
              "<style scoped>\n",
              "    .dataframe tbody tr th:only-of-type {\n",
              "        vertical-align: middle;\n",
              "    }\n",
              "\n",
              "    .dataframe tbody tr th {\n",
              "        vertical-align: top;\n",
              "    }\n",
              "\n",
              "    .dataframe thead th {\n",
              "        text-align: right;\n",
              "    }\n",
              "</style>\n",
              "<table border=\"1\" class=\"dataframe\">\n",
              "  <thead>\n",
              "    <tr style=\"text-align: right;\">\n",
              "      <th></th>\n",
              "      <th>Unnamed: 0</th>\n",
              "      <th>Flow ID</th>\n",
              "      <th>Source IP</th>\n",
              "      <th>Source Port</th>\n",
              "      <th>Destination IP</th>\n",
              "      <th>Destination Port</th>\n",
              "      <th>Protocol</th>\n",
              "      <th>Timestamp</th>\n",
              "      <th>Flow Duration</th>\n",
              "      <th>Total Fwd Packets</th>\n",
              "      <th>...</th>\n",
              "      <th>Active Std</th>\n",
              "      <th>Active Max</th>\n",
              "      <th>Active Min</th>\n",
              "      <th>Idle Mean</th>\n",
              "      <th>Idle Std</th>\n",
              "      <th>Idle Max</th>\n",
              "      <th>Idle Min</th>\n",
              "      <th>SimillarHTTP</th>\n",
              "      <th>Inbound</th>\n",
              "      <th>Label</th>\n",
              "    </tr>\n",
              "  </thead>\n",
              "  <tbody>\n",
              "    <tr>\n",
              "      <th>0</th>\n",
              "      <td>425</td>\n",
              "      <td>172.16.0.5-192.168.50.1-634-60495-17</td>\n",
              "      <td>172.16.0.5</td>\n",
              "      <td>634</td>\n",
              "      <td>192.168.50.1</td>\n",
              "      <td>60495</td>\n",
              "      <td>17</td>\n",
              "      <td>2018-12-01 10:51:39.813448</td>\n",
              "      <td>28415</td>\n",
              "      <td>97</td>\n",
              "      <td>...</td>\n",
              "      <td>0.0</td>\n",
              "      <td>0.0</td>\n",
              "      <td>0.0</td>\n",
              "      <td>0.0</td>\n",
              "      <td>0.0</td>\n",
              "      <td>0.0</td>\n",
              "      <td>0.0</td>\n",
              "      <td>0</td>\n",
              "      <td>1</td>\n",
              "      <td>DrDoS_DNS</td>\n",
              "    </tr>\n",
              "    <tr>\n",
              "      <th>1</th>\n",
              "      <td>430</td>\n",
              "      <td>172.16.0.5-192.168.50.1-60495-634-17</td>\n",
              "      <td>192.168.50.1</td>\n",
              "      <td>634</td>\n",
              "      <td>172.16.0.5</td>\n",
              "      <td>60495</td>\n",
              "      <td>17</td>\n",
              "      <td>2018-12-01 10:51:39.820842</td>\n",
              "      <td>2</td>\n",
              "      <td>2</td>\n",
              "      <td>...</td>\n",
              "      <td>0.0</td>\n",
              "      <td>0.0</td>\n",
              "      <td>0.0</td>\n",
              "      <td>0.0</td>\n",
              "      <td>0.0</td>\n",
              "      <td>0.0</td>\n",
              "      <td>0.0</td>\n",
              "      <td>0</td>\n",
              "      <td>0</td>\n",
              "      <td>DrDoS_DNS</td>\n",
              "    </tr>\n",
              "    <tr>\n",
              "      <th>2</th>\n",
              "      <td>1654</td>\n",
              "      <td>172.16.0.5-192.168.50.1-634-46391-17</td>\n",
              "      <td>172.16.0.5</td>\n",
              "      <td>634</td>\n",
              "      <td>192.168.50.1</td>\n",
              "      <td>46391</td>\n",
              "      <td>17</td>\n",
              "      <td>2018-12-01 10:51:39.852499</td>\n",
              "      <td>48549</td>\n",
              "      <td>200</td>\n",
              "      <td>...</td>\n",
              "      <td>0.0</td>\n",
              "      <td>0.0</td>\n",
              "      <td>0.0</td>\n",
              "      <td>0.0</td>\n",
              "      <td>0.0</td>\n",
              "      <td>0.0</td>\n",
              "      <td>0.0</td>\n",
              "      <td>0</td>\n",
              "      <td>1</td>\n",
              "      <td>DrDoS_DNS</td>\n",
              "    </tr>\n",
              "    <tr>\n",
              "      <th>3</th>\n",
              "      <td>2927</td>\n",
              "      <td>172.16.0.5-192.168.50.1-634-11894-17</td>\n",
              "      <td>172.16.0.5</td>\n",
              "      <td>634</td>\n",
              "      <td>192.168.50.1</td>\n",
              "      <td>11894</td>\n",
              "      <td>17</td>\n",
              "      <td>2018-12-01 10:51:39.890213</td>\n",
              "      <td>48337</td>\n",
              "      <td>200</td>\n",
              "      <td>...</td>\n",
              "      <td>0.0</td>\n",
              "      <td>0.0</td>\n",
              "      <td>0.0</td>\n",
              "      <td>0.0</td>\n",
              "      <td>0.0</td>\n",
              "      <td>0.0</td>\n",
              "      <td>0.0</td>\n",
              "      <td>0</td>\n",
              "      <td>1</td>\n",
              "      <td>DrDoS_DNS</td>\n",
              "    </tr>\n",
              "    <tr>\n",
              "      <th>4</th>\n",
              "      <td>694</td>\n",
              "      <td>172.16.0.5-192.168.50.1-634-27878-17</td>\n",
              "      <td>172.16.0.5</td>\n",
              "      <td>634</td>\n",
              "      <td>192.168.50.1</td>\n",
              "      <td>27878</td>\n",
              "      <td>17</td>\n",
              "      <td>2018-12-01 10:51:39.941151</td>\n",
              "      <td>32026</td>\n",
              "      <td>200</td>\n",
              "      <td>...</td>\n",
              "      <td>0.0</td>\n",
              "      <td>0.0</td>\n",
              "      <td>0.0</td>\n",
              "      <td>0.0</td>\n",
              "      <td>0.0</td>\n",
              "      <td>0.0</td>\n",
              "      <td>0.0</td>\n",
              "      <td>0</td>\n",
              "      <td>1</td>\n",
              "      <td>DrDoS_DNS</td>\n",
              "    </tr>\n",
              "  </tbody>\n",
              "</table>\n",
              "<p>5 rows × 88 columns</p>\n",
              "</div>"
            ],
            "text/plain": [
              "   Unnamed: 0                               Flow ID     Source IP  \\\n",
              "0         425  172.16.0.5-192.168.50.1-634-60495-17    172.16.0.5   \n",
              "1         430  172.16.0.5-192.168.50.1-60495-634-17  192.168.50.1   \n",
              "2        1654  172.16.0.5-192.168.50.1-634-46391-17    172.16.0.5   \n",
              "3        2927  172.16.0.5-192.168.50.1-634-11894-17    172.16.0.5   \n",
              "4         694  172.16.0.5-192.168.50.1-634-27878-17    172.16.0.5   \n",
              "\n",
              "    Source Port  Destination IP   Destination Port   Protocol  \\\n",
              "0           634    192.168.50.1              60495         17   \n",
              "1           634      172.16.0.5              60495         17   \n",
              "2           634    192.168.50.1              46391         17   \n",
              "3           634    192.168.50.1              11894         17   \n",
              "4           634    192.168.50.1              27878         17   \n",
              "\n",
              "                    Timestamp   Flow Duration   Total Fwd Packets  ...  \\\n",
              "0  2018-12-01 10:51:39.813448           28415                  97  ...   \n",
              "1  2018-12-01 10:51:39.820842               2                   2  ...   \n",
              "2  2018-12-01 10:51:39.852499           48549                 200  ...   \n",
              "3  2018-12-01 10:51:39.890213           48337                 200  ...   \n",
              "4  2018-12-01 10:51:39.941151           32026                 200  ...   \n",
              "\n",
              "    Active Std   Active Max   Active Min  Idle Mean   Idle Std   Idle Max  \\\n",
              "0          0.0          0.0          0.0        0.0        0.0        0.0   \n",
              "1          0.0          0.0          0.0        0.0        0.0        0.0   \n",
              "2          0.0          0.0          0.0        0.0        0.0        0.0   \n",
              "3          0.0          0.0          0.0        0.0        0.0        0.0   \n",
              "4          0.0          0.0          0.0        0.0        0.0        0.0   \n",
              "\n",
              "    Idle Min  SimillarHTTP   Inbound      Label  \n",
              "0        0.0             0         1  DrDoS_DNS  \n",
              "1        0.0             0         0  DrDoS_DNS  \n",
              "2        0.0             0         1  DrDoS_DNS  \n",
              "3        0.0             0         1  DrDoS_DNS  \n",
              "4        0.0             0         1  DrDoS_DNS  \n",
              "\n",
              "[5 rows x 88 columns]"
            ]
          },
          "execution_count": 1,
          "metadata": {},
          "output_type": "execute_result"
        }
      ],
      "source": [
        "# Import the necessary libraries\n",
        "import pandas as pd\n",
        "import numpy as np\n",
        "import matplotlib.pyplot as plt\n",
        "import seaborn as sns\n",
        "\n",
        "# Read the data from a CSV file\n",
        "df = pd.read_csv('CICDDoS2019.csv')\n",
        "\n",
        "df.head()"
      ]
    },
    {
      "cell_type": "markdown",
      "metadata": {
        "id": "nnzJHk1NqiEG"
      },
      "source": [
        "# Data Understanding"
      ]
    },
    {
      "cell_type": "markdown",
      "metadata": {
        "id": "Nd7iONURIpfW"
      },
      "source": [
        "## Initial Data Exploration"
      ]
    },
    {
      "cell_type": "code",
      "execution_count": 2,
      "metadata": {
        "colab": {
          "base_uri": "https://localhost:8080/"
        },
        "id": "ciIf3C7Tr4Yt",
        "outputId": "7973cda5-3319-47de-f588-50f7f58daa99"
      },
      "outputs": [
        {
          "data": {
            "text/plain": [
              "(37939, 88)"
            ]
          },
          "execution_count": 2,
          "metadata": {},
          "output_type": "execute_result"
        }
      ],
      "source": [
        "df.shape"
      ]
    },
    {
      "cell_type": "code",
      "execution_count": 3,
      "metadata": {
        "colab": {
          "base_uri": "https://localhost:8080/"
        },
        "id": "5UGNcalTqiEG",
        "outputId": "729658fc-a792-4210-e29e-3ad1880eb5fe"
      },
      "outputs": [
        {
          "name": "stdout",
          "output_type": "stream",
          "text": [
            "<class 'pandas.core.frame.DataFrame'>\n",
            "RangeIndex: 37939 entries, 0 to 37938\n",
            "Data columns (total 88 columns):\n",
            " #   Column                        Non-Null Count  Dtype  \n",
            "---  ------                        --------------  -----  \n",
            " 0   Unnamed: 0                    37939 non-null  int64  \n",
            " 1   Flow ID                       37939 non-null  object \n",
            " 2    Source IP                    37939 non-null  object \n",
            " 3    Source Port                  37939 non-null  int64  \n",
            " 4    Destination IP               37939 non-null  object \n",
            " 5    Destination Port             37939 non-null  int64  \n",
            " 6    Protocol                     37939 non-null  int64  \n",
            " 7    Timestamp                    37939 non-null  object \n",
            " 8    Flow Duration                37939 non-null  int64  \n",
            " 9    Total Fwd Packets            37939 non-null  int64  \n",
            " 10   Total Backward Packets       37939 non-null  int64  \n",
            " 11  Total Length of Fwd Packets   37939 non-null  float64\n",
            " 12   Total Length of Bwd Packets  37939 non-null  float64\n",
            " 13   Fwd Packet Length Max        37939 non-null  float64\n",
            " 14   Fwd Packet Length Min        37939 non-null  float64\n",
            " 15   Fwd Packet Length Mean       37939 non-null  float64\n",
            " 16   Fwd Packet Length Std        37939 non-null  float64\n",
            " 17  Bwd Packet Length Max         37939 non-null  float64\n",
            " 18   Bwd Packet Length Min        37939 non-null  float64\n",
            " 19   Bwd Packet Length Mean       37939 non-null  float64\n",
            " 20   Bwd Packet Length Std        37939 non-null  float64\n",
            " 21  Flow Bytes/s                  37412 non-null  float64\n",
            " 22   Flow Packets/s               37939 non-null  float64\n",
            " 23   Flow IAT Mean                37939 non-null  float64\n",
            " 24   Flow IAT Std                 37939 non-null  float64\n",
            " 25   Flow IAT Max                 37939 non-null  float64\n",
            " 26   Flow IAT Min                 37939 non-null  float64\n",
            " 27  Fwd IAT Total                 37939 non-null  float64\n",
            " 28   Fwd IAT Mean                 37939 non-null  float64\n",
            " 29   Fwd IAT Std                  37939 non-null  float64\n",
            " 30   Fwd IAT Max                  37939 non-null  float64\n",
            " 31   Fwd IAT Min                  37939 non-null  float64\n",
            " 32  Bwd IAT Total                 37939 non-null  float64\n",
            " 33   Bwd IAT Mean                 37939 non-null  float64\n",
            " 34   Bwd IAT Std                  37939 non-null  float64\n",
            " 35   Bwd IAT Max                  37939 non-null  float64\n",
            " 36   Bwd IAT Min                  37939 non-null  float64\n",
            " 37  Fwd PSH Flags                 37939 non-null  int64  \n",
            " 38   Bwd PSH Flags                37939 non-null  int64  \n",
            " 39   Fwd URG Flags                37939 non-null  int64  \n",
            " 40   Bwd URG Flags                37939 non-null  int64  \n",
            " 41   Fwd Header Length            37939 non-null  int64  \n",
            " 42   Bwd Header Length            37939 non-null  int64  \n",
            " 43  Fwd Packets/s                 37939 non-null  float64\n",
            " 44   Bwd Packets/s                37939 non-null  float64\n",
            " 45   Min Packet Length            37939 non-null  float64\n",
            " 46   Max Packet Length            37939 non-null  float64\n",
            " 47   Packet Length Mean           37939 non-null  float64\n",
            " 48   Packet Length Std            37939 non-null  float64\n",
            " 49   Packet Length Variance       37939 non-null  float64\n",
            " 50  FIN Flag Count                37939 non-null  int64  \n",
            " 51   SYN Flag Count               37939 non-null  int64  \n",
            " 52   RST Flag Count               37939 non-null  int64  \n",
            " 53   PSH Flag Count               37939 non-null  int64  \n",
            " 54   ACK Flag Count               37939 non-null  int64  \n",
            " 55   URG Flag Count               37939 non-null  int64  \n",
            " 56   CWE Flag Count               37939 non-null  int64  \n",
            " 57   ECE Flag Count               37939 non-null  int64  \n",
            " 58   Down/Up Ratio                37939 non-null  float64\n",
            " 59   Average Packet Size          37939 non-null  float64\n",
            " 60   Avg Fwd Segment Size         37939 non-null  float64\n",
            " 61   Avg Bwd Segment Size         37939 non-null  float64\n",
            " 62   Fwd Header Length.1          37939 non-null  int64  \n",
            " 63  Fwd Avg Bytes/Bulk            37939 non-null  int64  \n",
            " 64   Fwd Avg Packets/Bulk         37939 non-null  int64  \n",
            " 65   Fwd Avg Bulk Rate            37939 non-null  int64  \n",
            " 66   Bwd Avg Bytes/Bulk           37939 non-null  int64  \n",
            " 67   Bwd Avg Packets/Bulk         37939 non-null  int64  \n",
            " 68  Bwd Avg Bulk Rate             37939 non-null  int64  \n",
            " 69  Subflow Fwd Packets           37939 non-null  int64  \n",
            " 70   Subflow Fwd Bytes            37939 non-null  int64  \n",
            " 71   Subflow Bwd Packets          37939 non-null  int64  \n",
            " 72   Subflow Bwd Bytes            37939 non-null  int64  \n",
            " 73  Init_Win_bytes_forward        37939 non-null  int64  \n",
            " 74   Init_Win_bytes_backward      37939 non-null  int64  \n",
            " 75   act_data_pkt_fwd             37939 non-null  int64  \n",
            " 76   min_seg_size_forward         37939 non-null  int64  \n",
            " 77  Active Mean                   37939 non-null  float64\n",
            " 78   Active Std                   37939 non-null  float64\n",
            " 79   Active Max                   37939 non-null  float64\n",
            " 80   Active Min                   37939 non-null  float64\n",
            " 81  Idle Mean                     37939 non-null  float64\n",
            " 82   Idle Std                     37939 non-null  float64\n",
            " 83   Idle Max                     37939 non-null  float64\n",
            " 84   Idle Min                     37939 non-null  float64\n",
            " 85  SimillarHTTP                  37939 non-null  object \n",
            " 86   Inbound                      37939 non-null  int64  \n",
            " 87   Label                        37939 non-null  object \n",
            "dtypes: float64(45), int64(37), object(6)\n",
            "memory usage: 25.5+ MB\n"
          ]
        }
      ],
      "source": [
        "\n",
        "df.info()"
      ]
    },
    {
      "cell_type": "code",
      "execution_count": 4,
      "metadata": {
        "colab": {
          "base_uri": "https://localhost:8080/"
        },
        "id": "2JTD2kfIqiEG",
        "outputId": "57c1b152-a058-47b4-902c-24a67562fe97"
      },
      "outputs": [
        {
          "name": "stderr",
          "output_type": "stream",
          "text": [
            "C:\\Users\\Nur Ayu Amira\\AppData\\Roaming\\Python\\Python311\\site-packages\\pandas\\core\\nanops.py:1010: RuntimeWarning: invalid value encountered in subtract\n",
            "  sqr = _ensure_numeric((avg - values) ** 2)\n",
            "C:\\Users\\Nur Ayu Amira\\AppData\\Roaming\\Python\\Python311\\site-packages\\pandas\\core\\nanops.py:1010: RuntimeWarning: invalid value encountered in subtract\n",
            "  sqr = _ensure_numeric((avg - values) ** 2)\n"
          ]
        },
        {
          "data": {
            "text/html": [
              "<div>\n",
              "<style scoped>\n",
              "    .dataframe tbody tr th:only-of-type {\n",
              "        vertical-align: middle;\n",
              "    }\n",
              "\n",
              "    .dataframe tbody tr th {\n",
              "        vertical-align: top;\n",
              "    }\n",
              "\n",
              "    .dataframe thead th {\n",
              "        text-align: right;\n",
              "    }\n",
              "</style>\n",
              "<table border=\"1\" class=\"dataframe\">\n",
              "  <thead>\n",
              "    <tr style=\"text-align: right;\">\n",
              "      <th></th>\n",
              "      <th>Unnamed: 0</th>\n",
              "      <th>Source Port</th>\n",
              "      <th>Destination Port</th>\n",
              "      <th>Protocol</th>\n",
              "      <th>Flow Duration</th>\n",
              "      <th>Total Fwd Packets</th>\n",
              "      <th>Total Backward Packets</th>\n",
              "      <th>Total Length of Fwd Packets</th>\n",
              "      <th>Total Length of Bwd Packets</th>\n",
              "      <th>Fwd Packet Length Max</th>\n",
              "      <th>Fwd Packet Length Min</th>\n",
              "      <th>Fwd Packet Length Mean</th>\n",
              "      <th>Fwd Packet Length Std</th>\n",
              "      <th>Bwd Packet Length Max</th>\n",
              "      <th>Bwd Packet Length Min</th>\n",
              "      <th>Bwd Packet Length Mean</th>\n",
              "      <th>Bwd Packet Length Std</th>\n",
              "      <th>Flow Bytes/s</th>\n",
              "      <th>Flow Packets/s</th>\n",
              "      <th>Flow IAT Mean</th>\n",
              "      <th>Flow IAT Std</th>\n",
              "      <th>Flow IAT Max</th>\n",
              "      <th>Flow IAT Min</th>\n",
              "      <th>Fwd IAT Total</th>\n",
              "      <th>Fwd IAT Mean</th>\n",
              "      <th>Fwd IAT Std</th>\n",
              "      <th>Fwd IAT Max</th>\n",
              "      <th>Fwd IAT Min</th>\n",
              "      <th>Bwd IAT Total</th>\n",
              "      <th>Bwd IAT Mean</th>\n",
              "      <th>Bwd IAT Std</th>\n",
              "      <th>Bwd IAT Max</th>\n",
              "      <th>Bwd IAT Min</th>\n",
              "      <th>Fwd PSH Flags</th>\n",
              "      <th>Bwd PSH Flags</th>\n",
              "      <th>Fwd URG Flags</th>\n",
              "      <th>Bwd URG Flags</th>\n",
              "      <th>Fwd Header Length</th>\n",
              "      <th>Bwd Header Length</th>\n",
              "      <th>Fwd Packets/s</th>\n",
              "      <th>Bwd Packets/s</th>\n",
              "      <th>Min Packet Length</th>\n",
              "      <th>Max Packet Length</th>\n",
              "      <th>Packet Length Mean</th>\n",
              "      <th>Packet Length Std</th>\n",
              "      <th>Packet Length Variance</th>\n",
              "      <th>FIN Flag Count</th>\n",
              "      <th>SYN Flag Count</th>\n",
              "      <th>RST Flag Count</th>\n",
              "      <th>PSH Flag Count</th>\n",
              "      <th>ACK Flag Count</th>\n",
              "      <th>URG Flag Count</th>\n",
              "      <th>CWE Flag Count</th>\n",
              "      <th>ECE Flag Count</th>\n",
              "      <th>Down/Up Ratio</th>\n",
              "      <th>Average Packet Size</th>\n",
              "      <th>Avg Fwd Segment Size</th>\n",
              "      <th>Avg Bwd Segment Size</th>\n",
              "      <th>Fwd Header Length.1</th>\n",
              "      <th>Fwd Avg Bytes/Bulk</th>\n",
              "      <th>Fwd Avg Packets/Bulk</th>\n",
              "      <th>Fwd Avg Bulk Rate</th>\n",
              "      <th>Bwd Avg Bytes/Bulk</th>\n",
              "      <th>Bwd Avg Packets/Bulk</th>\n",
              "      <th>Bwd Avg Bulk Rate</th>\n",
              "      <th>Subflow Fwd Packets</th>\n",
              "      <th>Subflow Fwd Bytes</th>\n",
              "      <th>Subflow Bwd Packets</th>\n",
              "      <th>Subflow Bwd Bytes</th>\n",
              "      <th>Init_Win_bytes_forward</th>\n",
              "      <th>Init_Win_bytes_backward</th>\n",
              "      <th>act_data_pkt_fwd</th>\n",
              "      <th>min_seg_size_forward</th>\n",
              "      <th>Active Mean</th>\n",
              "      <th>Active Std</th>\n",
              "      <th>Active Max</th>\n",
              "      <th>Active Min</th>\n",
              "      <th>Idle Mean</th>\n",
              "      <th>Idle Std</th>\n",
              "      <th>Idle Max</th>\n",
              "      <th>Idle Min</th>\n",
              "      <th>Inbound</th>\n",
              "    </tr>\n",
              "  </thead>\n",
              "  <tbody>\n",
              "    <tr>\n",
              "      <th>count</th>\n",
              "      <td>37939.000000</td>\n",
              "      <td>37939.000000</td>\n",
              "      <td>37939.000000</td>\n",
              "      <td>37939.000000</td>\n",
              "      <td>3.793900e+04</td>\n",
              "      <td>37939.000000</td>\n",
              "      <td>37939.000000</td>\n",
              "      <td>3.793900e+04</td>\n",
              "      <td>3.793900e+04</td>\n",
              "      <td>37939.000000</td>\n",
              "      <td>37939.000000</td>\n",
              "      <td>37939.000000</td>\n",
              "      <td>37939.000000</td>\n",
              "      <td>37939.000000</td>\n",
              "      <td>37939.000000</td>\n",
              "      <td>37939.000000</td>\n",
              "      <td>37939.000000</td>\n",
              "      <td>3.741200e+04</td>\n",
              "      <td>3.793900e+04</td>\n",
              "      <td>3.793900e+04</td>\n",
              "      <td>3.793900e+04</td>\n",
              "      <td>3.793900e+04</td>\n",
              "      <td>3.793900e+04</td>\n",
              "      <td>3.793900e+04</td>\n",
              "      <td>3.793900e+04</td>\n",
              "      <td>3.793900e+04</td>\n",
              "      <td>3.793900e+04</td>\n",
              "      <td>3.793900e+04</td>\n",
              "      <td>3.793900e+04</td>\n",
              "      <td>3.793900e+04</td>\n",
              "      <td>3.793900e+04</td>\n",
              "      <td>3.793900e+04</td>\n",
              "      <td>37939.000000</td>\n",
              "      <td>37939.000000</td>\n",
              "      <td>37939.0</td>\n",
              "      <td>37939.0</td>\n",
              "      <td>37939.0</td>\n",
              "      <td>3.793900e+04</td>\n",
              "      <td>3.793900e+04</td>\n",
              "      <td>3.793900e+04</td>\n",
              "      <td>3.793900e+04</td>\n",
              "      <td>37939.000000</td>\n",
              "      <td>37939.000000</td>\n",
              "      <td>37939.000000</td>\n",
              "      <td>37939.000000</td>\n",
              "      <td>3.793900e+04</td>\n",
              "      <td>37939.0</td>\n",
              "      <td>37939.000000</td>\n",
              "      <td>37939.000000</td>\n",
              "      <td>37939.0</td>\n",
              "      <td>37939.000000</td>\n",
              "      <td>37939.000000</td>\n",
              "      <td>37939.000000</td>\n",
              "      <td>37939.0</td>\n",
              "      <td>37939.000000</td>\n",
              "      <td>37939.000000</td>\n",
              "      <td>37939.000000</td>\n",
              "      <td>37939.000000</td>\n",
              "      <td>3.793900e+04</td>\n",
              "      <td>37939.0</td>\n",
              "      <td>37939.0</td>\n",
              "      <td>37939.0</td>\n",
              "      <td>37939.0</td>\n",
              "      <td>37939.0</td>\n",
              "      <td>37939.0</td>\n",
              "      <td>37939.000000</td>\n",
              "      <td>3.793900e+04</td>\n",
              "      <td>37939.000000</td>\n",
              "      <td>3.793900e+04</td>\n",
              "      <td>37939.000000</td>\n",
              "      <td>37939.000000</td>\n",
              "      <td>37939.000000</td>\n",
              "      <td>3.793900e+04</td>\n",
              "      <td>3.793900e+04</td>\n",
              "      <td>3.793900e+04</td>\n",
              "      <td>3.793900e+04</td>\n",
              "      <td>3.793900e+04</td>\n",
              "      <td>3.793900e+04</td>\n",
              "      <td>3.793900e+04</td>\n",
              "      <td>3.793900e+04</td>\n",
              "      <td>3.793900e+04</td>\n",
              "      <td>37939.000000</td>\n",
              "    </tr>\n",
              "    <tr>\n",
              "      <th>mean</th>\n",
              "      <td>80511.804001</td>\n",
              "      <td>29681.357152</td>\n",
              "      <td>25279.543926</td>\n",
              "      <td>12.700387</td>\n",
              "      <td>4.872394e+06</td>\n",
              "      <td>18.162814</td>\n",
              "      <td>2.440549</td>\n",
              "      <td>5.528628e+03</td>\n",
              "      <td>2.433303e+03</td>\n",
              "      <td>478.406574</td>\n",
              "      <td>430.702364</td>\n",
              "      <td>442.997757</td>\n",
              "      <td>16.785171</td>\n",
              "      <td>104.955323</td>\n",
              "      <td>9.148053</td>\n",
              "      <td>32.330230</td>\n",
              "      <td>30.711523</td>\n",
              "      <td>inf</td>\n",
              "      <td>inf</td>\n",
              "      <td>3.437452e+05</td>\n",
              "      <td>5.876311e+05</td>\n",
              "      <td>1.802148e+06</td>\n",
              "      <td>1.561774e+04</td>\n",
              "      <td>4.759764e+06</td>\n",
              "      <td>4.048472e+05</td>\n",
              "      <td>6.361899e+05</td>\n",
              "      <td>1.728684e+06</td>\n",
              "      <td>1.527173e+04</td>\n",
              "      <td>1.606256e+06</td>\n",
              "      <td>1.630198e+05</td>\n",
              "      <td>3.228976e+05</td>\n",
              "      <td>8.332278e+05</td>\n",
              "      <td>0.932787</td>\n",
              "      <td>0.038483</td>\n",
              "      <td>0.0</td>\n",
              "      <td>0.0</td>\n",
              "      <td>0.0</td>\n",
              "      <td>-1.061402e+09</td>\n",
              "      <td>-3.109189e+06</td>\n",
              "      <td>7.851493e+05</td>\n",
              "      <td>2.669480e+03</td>\n",
              "      <td>430.389072</td>\n",
              "      <td>545.258336</td>\n",
              "      <td>452.766906</td>\n",
              "      <td>32.402328</td>\n",
              "      <td>2.211339e+04</td>\n",
              "      <td>0.0</td>\n",
              "      <td>0.001871</td>\n",
              "      <td>0.038483</td>\n",
              "      <td>0.0</td>\n",
              "      <td>0.203985</td>\n",
              "      <td>0.168771</td>\n",
              "      <td>0.095337</td>\n",
              "      <td>0.0</td>\n",
              "      <td>0.322913</td>\n",
              "      <td>652.983628</td>\n",
              "      <td>442.997757</td>\n",
              "      <td>32.330230</td>\n",
              "      <td>-1.061402e+09</td>\n",
              "      <td>0.0</td>\n",
              "      <td>0.0</td>\n",
              "      <td>0.0</td>\n",
              "      <td>0.0</td>\n",
              "      <td>0.0</td>\n",
              "      <td>0.0</td>\n",
              "      <td>18.162814</td>\n",
              "      <td>5.528628e+03</td>\n",
              "      <td>2.440549</td>\n",
              "      <td>2.433303e+03</td>\n",
              "      <td>4287.950737</td>\n",
              "      <td>941.398139</td>\n",
              "      <td>10.177891</td>\n",
              "      <td>-2.750703e+07</td>\n",
              "      <td>1.807635e+04</td>\n",
              "      <td>5.611609e+03</td>\n",
              "      <td>2.676660e+04</td>\n",
              "      <td>1.472205e+04</td>\n",
              "      <td>1.268144e+06</td>\n",
              "      <td>1.992520e+05</td>\n",
              "      <td>1.561112e+06</td>\n",
              "      <td>1.070010e+06</td>\n",
              "      <td>0.752076</td>\n",
              "    </tr>\n",
              "    <tr>\n",
              "      <th>std</th>\n",
              "      <td>124259.195625</td>\n",
              "      <td>25564.215528</td>\n",
              "      <td>22407.050721</td>\n",
              "      <td>5.489319</td>\n",
              "      <td>2.104098e+07</td>\n",
              "      <td>600.696035</td>\n",
              "      <td>38.946746</td>\n",
              "      <td>9.678640e+04</td>\n",
              "      <td>1.073870e+05</td>\n",
              "      <td>607.156214</td>\n",
              "      <td>561.259756</td>\n",
              "      <td>556.118539</td>\n",
              "      <td>74.393036</td>\n",
              "      <td>719.486189</td>\n",
              "      <td>35.128713</td>\n",
              "      <td>144.985091</td>\n",
              "      <td>164.221295</td>\n",
              "      <td>NaN</td>\n",
              "      <td>NaN</td>\n",
              "      <td>1.525892e+06</td>\n",
              "      <td>2.327309e+06</td>\n",
              "      <td>7.573354e+06</td>\n",
              "      <td>6.321497e+05</td>\n",
              "      <td>2.101288e+07</td>\n",
              "      <td>1.751301e+06</td>\n",
              "      <td>2.643007e+06</td>\n",
              "      <td>7.545030e+06</td>\n",
              "      <td>6.322486e+05</td>\n",
              "      <td>1.136440e+07</td>\n",
              "      <td>1.402856e+06</td>\n",
              "      <td>2.590013e+06</td>\n",
              "      <td>6.178939e+06</td>\n",
              "      <td>5.741751</td>\n",
              "      <td>0.192361</td>\n",
              "      <td>0.0</td>\n",
              "      <td>0.0</td>\n",
              "      <td>0.0</td>\n",
              "      <td>1.339527e+10</td>\n",
              "      <td>8.105094e+07</td>\n",
              "      <td>8.923428e+05</td>\n",
              "      <td>4.135035e+04</td>\n",
              "      <td>561.213107</td>\n",
              "      <td>889.311054</td>\n",
              "      <td>554.882546</td>\n",
              "      <td>145.134531</td>\n",
              "      <td>4.430367e+05</td>\n",
              "      <td>0.0</td>\n",
              "      <td>0.043220</td>\n",
              "      <td>0.192361</td>\n",
              "      <td>0.0</td>\n",
              "      <td>0.402964</td>\n",
              "      <td>0.374554</td>\n",
              "      <td>0.293684</td>\n",
              "      <td>0.0</td>\n",
              "      <td>0.703294</td>\n",
              "      <td>833.845862</td>\n",
              "      <td>556.118539</td>\n",
              "      <td>144.985091</td>\n",
              "      <td>1.339527e+10</td>\n",
              "      <td>0.0</td>\n",
              "      <td>0.0</td>\n",
              "      <td>0.0</td>\n",
              "      <td>0.0</td>\n",
              "      <td>0.0</td>\n",
              "      <td>0.0</td>\n",
              "      <td>600.696035</td>\n",
              "      <td>9.678640e+04</td>\n",
              "      <td>38.946746</td>\n",
              "      <td>1.073870e+05</td>\n",
              "      <td>12921.298190</td>\n",
              "      <td>5627.300057</td>\n",
              "      <td>51.580437</td>\n",
              "      <td>1.687495e+08</td>\n",
              "      <td>3.002120e+05</td>\n",
              "      <td>1.762554e+05</td>\n",
              "      <td>4.956883e+05</td>\n",
              "      <td>2.651533e+05</td>\n",
              "      <td>6.177043e+06</td>\n",
              "      <td>1.446170e+06</td>\n",
              "      <td>7.311421e+06</td>\n",
              "      <td>5.671676e+06</td>\n",
              "      <td>0.431813</td>\n",
              "    </tr>\n",
              "    <tr>\n",
              "      <th>min</th>\n",
              "      <td>0.000000</td>\n",
              "      <td>0.000000</td>\n",
              "      <td>0.000000</td>\n",
              "      <td>0.000000</td>\n",
              "      <td>0.000000e+00</td>\n",
              "      <td>1.000000</td>\n",
              "      <td>0.000000</td>\n",
              "      <td>0.000000e+00</td>\n",
              "      <td>0.000000e+00</td>\n",
              "      <td>0.000000</td>\n",
              "      <td>0.000000</td>\n",
              "      <td>0.000000</td>\n",
              "      <td>0.000000</td>\n",
              "      <td>0.000000</td>\n",
              "      <td>0.000000</td>\n",
              "      <td>0.000000</td>\n",
              "      <td>0.000000</td>\n",
              "      <td>0.000000e+00</td>\n",
              "      <td>3.051751e-02</td>\n",
              "      <td>0.000000e+00</td>\n",
              "      <td>0.000000e+00</td>\n",
              "      <td>0.000000e+00</td>\n",
              "      <td>0.000000e+00</td>\n",
              "      <td>0.000000e+00</td>\n",
              "      <td>0.000000e+00</td>\n",
              "      <td>0.000000e+00</td>\n",
              "      <td>0.000000e+00</td>\n",
              "      <td>0.000000e+00</td>\n",
              "      <td>0.000000e+00</td>\n",
              "      <td>0.000000e+00</td>\n",
              "      <td>0.000000e+00</td>\n",
              "      <td>0.000000e+00</td>\n",
              "      <td>0.000000</td>\n",
              "      <td>0.000000</td>\n",
              "      <td>0.0</td>\n",
              "      <td>0.0</td>\n",
              "      <td>0.0</td>\n",
              "      <td>-2.125438e+11</td>\n",
              "      <td>-2.125438e+09</td>\n",
              "      <td>0.000000e+00</td>\n",
              "      <td>0.000000e+00</td>\n",
              "      <td>0.000000</td>\n",
              "      <td>0.000000</td>\n",
              "      <td>0.000000</td>\n",
              "      <td>0.000000</td>\n",
              "      <td>0.000000e+00</td>\n",
              "      <td>0.0</td>\n",
              "      <td>0.000000</td>\n",
              "      <td>0.000000</td>\n",
              "      <td>0.0</td>\n",
              "      <td>0.000000</td>\n",
              "      <td>0.000000</td>\n",
              "      <td>0.000000</td>\n",
              "      <td>0.0</td>\n",
              "      <td>0.000000</td>\n",
              "      <td>0.000000</td>\n",
              "      <td>0.000000</td>\n",
              "      <td>0.000000</td>\n",
              "      <td>-2.125438e+11</td>\n",
              "      <td>0.0</td>\n",
              "      <td>0.0</td>\n",
              "      <td>0.0</td>\n",
              "      <td>0.0</td>\n",
              "      <td>0.0</td>\n",
              "      <td>0.0</td>\n",
              "      <td>1.000000</td>\n",
              "      <td>0.000000e+00</td>\n",
              "      <td>0.000000</td>\n",
              "      <td>0.000000e+00</td>\n",
              "      <td>-1.000000</td>\n",
              "      <td>-1.000000</td>\n",
              "      <td>0.000000</td>\n",
              "      <td>-1.062719e+09</td>\n",
              "      <td>0.000000e+00</td>\n",
              "      <td>0.000000e+00</td>\n",
              "      <td>0.000000e+00</td>\n",
              "      <td>0.000000e+00</td>\n",
              "      <td>0.000000e+00</td>\n",
              "      <td>0.000000e+00</td>\n",
              "      <td>0.000000e+00</td>\n",
              "      <td>0.000000e+00</td>\n",
              "      <td>0.000000</td>\n",
              "    </tr>\n",
              "    <tr>\n",
              "      <th>25%</th>\n",
              "      <td>4529.000000</td>\n",
              "      <td>779.000000</td>\n",
              "      <td>443.000000</td>\n",
              "      <td>6.000000</td>\n",
              "      <td>1.000000e+00</td>\n",
              "      <td>2.000000</td>\n",
              "      <td>0.000000</td>\n",
              "      <td>0.000000e+00</td>\n",
              "      <td>0.000000e+00</td>\n",
              "      <td>0.000000</td>\n",
              "      <td>0.000000</td>\n",
              "      <td>0.000000</td>\n",
              "      <td>0.000000</td>\n",
              "      <td>0.000000</td>\n",
              "      <td>0.000000</td>\n",
              "      <td>0.000000</td>\n",
              "      <td>0.000000</td>\n",
              "      <td>0.000000e+00</td>\n",
              "      <td>1.898028e+02</td>\n",
              "      <td>1.000000e+00</td>\n",
              "      <td>0.000000e+00</td>\n",
              "      <td>1.000000e+00</td>\n",
              "      <td>1.000000e+00</td>\n",
              "      <td>1.000000e+00</td>\n",
              "      <td>1.000000e+00</td>\n",
              "      <td>0.000000e+00</td>\n",
              "      <td>1.000000e+00</td>\n",
              "      <td>1.000000e+00</td>\n",
              "      <td>0.000000e+00</td>\n",
              "      <td>0.000000e+00</td>\n",
              "      <td>0.000000e+00</td>\n",
              "      <td>0.000000e+00</td>\n",
              "      <td>0.000000</td>\n",
              "      <td>0.000000</td>\n",
              "      <td>0.0</td>\n",
              "      <td>0.0</td>\n",
              "      <td>0.0</td>\n",
              "      <td>-2.000000e+00</td>\n",
              "      <td>0.000000e+00</td>\n",
              "      <td>4.881740e+01</td>\n",
              "      <td>0.000000e+00</td>\n",
              "      <td>0.000000</td>\n",
              "      <td>0.000000</td>\n",
              "      <td>0.000000</td>\n",
              "      <td>0.000000</td>\n",
              "      <td>0.000000e+00</td>\n",
              "      <td>0.0</td>\n",
              "      <td>0.000000</td>\n",
              "      <td>0.000000</td>\n",
              "      <td>0.0</td>\n",
              "      <td>0.000000</td>\n",
              "      <td>0.000000</td>\n",
              "      <td>0.000000</td>\n",
              "      <td>0.0</td>\n",
              "      <td>0.000000</td>\n",
              "      <td>0.000000</td>\n",
              "      <td>0.000000</td>\n",
              "      <td>0.000000</td>\n",
              "      <td>-2.000000e+00</td>\n",
              "      <td>0.0</td>\n",
              "      <td>0.0</td>\n",
              "      <td>0.0</td>\n",
              "      <td>0.0</td>\n",
              "      <td>0.0</td>\n",
              "      <td>0.0</td>\n",
              "      <td>2.000000</td>\n",
              "      <td>0.000000e+00</td>\n",
              "      <td>0.000000</td>\n",
              "      <td>0.000000e+00</td>\n",
              "      <td>-1.000000</td>\n",
              "      <td>-1.000000</td>\n",
              "      <td>0.000000</td>\n",
              "      <td>-1.000000e+00</td>\n",
              "      <td>0.000000e+00</td>\n",
              "      <td>0.000000e+00</td>\n",
              "      <td>0.000000e+00</td>\n",
              "      <td>0.000000e+00</td>\n",
              "      <td>0.000000e+00</td>\n",
              "      <td>0.000000e+00</td>\n",
              "      <td>0.000000e+00</td>\n",
              "      <td>0.000000e+00</td>\n",
              "      <td>1.000000</td>\n",
              "    </tr>\n",
              "    <tr>\n",
              "      <th>50%</th>\n",
              "      <td>28946.000000</td>\n",
              "      <td>35795.000000</td>\n",
              "      <td>22373.000000</td>\n",
              "      <td>17.000000</td>\n",
              "      <td>3.800000e+01</td>\n",
              "      <td>2.000000</td>\n",
              "      <td>0.000000</td>\n",
              "      <td>7.500000e+02</td>\n",
              "      <td>0.000000e+00</td>\n",
              "      <td>369.000000</td>\n",
              "      <td>229.000000</td>\n",
              "      <td>229.000000</td>\n",
              "      <td>0.000000</td>\n",
              "      <td>0.000000</td>\n",
              "      <td>0.000000</td>\n",
              "      <td>0.000000</td>\n",
              "      <td>0.000000</td>\n",
              "      <td>4.695118e+04</td>\n",
              "      <td>7.692308e+04</td>\n",
              "      <td>1.733333e+01</td>\n",
              "      <td>0.000000e+00</td>\n",
              "      <td>3.800000e+01</td>\n",
              "      <td>1.000000e+00</td>\n",
              "      <td>2.000000e+00</td>\n",
              "      <td>2.000000e+00</td>\n",
              "      <td>0.000000e+00</td>\n",
              "      <td>2.000000e+00</td>\n",
              "      <td>1.000000e+00</td>\n",
              "      <td>0.000000e+00</td>\n",
              "      <td>0.000000e+00</td>\n",
              "      <td>0.000000e+00</td>\n",
              "      <td>0.000000e+00</td>\n",
              "      <td>0.000000</td>\n",
              "      <td>0.000000</td>\n",
              "      <td>0.0</td>\n",
              "      <td>0.0</td>\n",
              "      <td>0.0</td>\n",
              "      <td>3.200000e+01</td>\n",
              "      <td>0.000000e+00</td>\n",
              "      <td>4.166667e+04</td>\n",
              "      <td>0.000000e+00</td>\n",
              "      <td>229.000000</td>\n",
              "      <td>369.000000</td>\n",
              "      <td>229.000000</td>\n",
              "      <td>0.000000</td>\n",
              "      <td>0.000000e+00</td>\n",
              "      <td>0.0</td>\n",
              "      <td>0.000000</td>\n",
              "      <td>0.000000</td>\n",
              "      <td>0.0</td>\n",
              "      <td>0.000000</td>\n",
              "      <td>0.000000</td>\n",
              "      <td>0.000000</td>\n",
              "      <td>0.0</td>\n",
              "      <td>0.000000</td>\n",
              "      <td>343.500000</td>\n",
              "      <td>229.000000</td>\n",
              "      <td>0.000000</td>\n",
              "      <td>3.200000e+01</td>\n",
              "      <td>0.0</td>\n",
              "      <td>0.0</td>\n",
              "      <td>0.0</td>\n",
              "      <td>0.0</td>\n",
              "      <td>0.0</td>\n",
              "      <td>0.0</td>\n",
              "      <td>2.000000</td>\n",
              "      <td>7.500000e+02</td>\n",
              "      <td>0.000000</td>\n",
              "      <td>0.000000e+00</td>\n",
              "      <td>-1.000000</td>\n",
              "      <td>-1.000000</td>\n",
              "      <td>1.000000</td>\n",
              "      <td>2.000000e+01</td>\n",
              "      <td>0.000000e+00</td>\n",
              "      <td>0.000000e+00</td>\n",
              "      <td>0.000000e+00</td>\n",
              "      <td>0.000000e+00</td>\n",
              "      <td>0.000000e+00</td>\n",
              "      <td>0.000000e+00</td>\n",
              "      <td>0.000000e+00</td>\n",
              "      <td>0.000000e+00</td>\n",
              "      <td>1.000000</td>\n",
              "    </tr>\n",
              "    <tr>\n",
              "      <th>75%</th>\n",
              "      <td>103170.000000</td>\n",
              "      <td>54929.500000</td>\n",
              "      <td>46633.500000</td>\n",
              "      <td>17.000000</td>\n",
              "      <td>4.529050e+04</td>\n",
              "      <td>4.000000</td>\n",
              "      <td>2.000000</td>\n",
              "      <td>2.896000e+03</td>\n",
              "      <td>0.000000e+00</td>\n",
              "      <td>566.000000</td>\n",
              "      <td>463.000000</td>\n",
              "      <td>472.000000</td>\n",
              "      <td>0.000000</td>\n",
              "      <td>0.000000</td>\n",
              "      <td>0.000000</td>\n",
              "      <td>0.000000</td>\n",
              "      <td>0.000000</td>\n",
              "      <td>8.380000e+08</td>\n",
              "      <td>2.000000e+06</td>\n",
              "      <td>6.984167e+03</td>\n",
              "      <td>1.205816e+04</td>\n",
              "      <td>2.839650e+04</td>\n",
              "      <td>2.000000e+00</td>\n",
              "      <td>5.400000e+02</td>\n",
              "      <td>1.395013e+02</td>\n",
              "      <td>1.431938e+02</td>\n",
              "      <td>4.430000e+02</td>\n",
              "      <td>2.000000e+00</td>\n",
              "      <td>1.000000e+00</td>\n",
              "      <td>1.000000e+00</td>\n",
              "      <td>0.000000e+00</td>\n",
              "      <td>1.000000e+00</td>\n",
              "      <td>1.000000</td>\n",
              "      <td>0.000000</td>\n",
              "      <td>0.0</td>\n",
              "      <td>0.0</td>\n",
              "      <td>0.0</td>\n",
              "      <td>6.000000e+01</td>\n",
              "      <td>4.000000e+01</td>\n",
              "      <td>2.000000e+06</td>\n",
              "      <td>1.528487e+00</td>\n",
              "      <td>463.000000</td>\n",
              "      <td>1073.000000</td>\n",
              "      <td>499.864865</td>\n",
              "      <td>8.763561</td>\n",
              "      <td>7.680000e+01</td>\n",
              "      <td>0.0</td>\n",
              "      <td>0.000000</td>\n",
              "      <td>0.000000</td>\n",
              "      <td>0.0</td>\n",
              "      <td>0.000000</td>\n",
              "      <td>0.000000</td>\n",
              "      <td>0.000000</td>\n",
              "      <td>0.0</td>\n",
              "      <td>0.000000</td>\n",
              "      <td>722.048507</td>\n",
              "      <td>472.000000</td>\n",
              "      <td>0.000000</td>\n",
              "      <td>6.000000e+01</td>\n",
              "      <td>0.0</td>\n",
              "      <td>0.0</td>\n",
              "      <td>0.0</td>\n",
              "      <td>0.0</td>\n",
              "      <td>0.0</td>\n",
              "      <td>0.0</td>\n",
              "      <td>4.000000</td>\n",
              "      <td>2.896000e+03</td>\n",
              "      <td>2.000000</td>\n",
              "      <td>0.000000e+00</td>\n",
              "      <td>293.000000</td>\n",
              "      <td>-1.000000</td>\n",
              "      <td>1.000000</td>\n",
              "      <td>2.000000e+01</td>\n",
              "      <td>0.000000e+00</td>\n",
              "      <td>0.000000e+00</td>\n",
              "      <td>0.000000e+00</td>\n",
              "      <td>0.000000e+00</td>\n",
              "      <td>0.000000e+00</td>\n",
              "      <td>0.000000e+00</td>\n",
              "      <td>0.000000e+00</td>\n",
              "      <td>0.000000e+00</td>\n",
              "      <td>1.000000</td>\n",
              "    </tr>\n",
              "    <tr>\n",
              "      <th>max</th>\n",
              "      <td>777282.000000</td>\n",
              "      <td>65518.000000</td>\n",
              "      <td>65528.000000</td>\n",
              "      <td>17.000000</td>\n",
              "      <td>1.200000e+08</td>\n",
              "      <td>85894.000000</td>\n",
              "      <td>4602.000000</td>\n",
              "      <td>1.526642e+07</td>\n",
              "      <td>1.099376e+07</td>\n",
              "      <td>32120.000000</td>\n",
              "      <td>2020.000000</td>\n",
              "      <td>3015.290539</td>\n",
              "      <td>2221.556055</td>\n",
              "      <td>36500.000000</td>\n",
              "      <td>1460.000000</td>\n",
              "      <td>5011.060159</td>\n",
              "      <td>7045.095260</td>\n",
              "      <td>inf</td>\n",
              "      <td>inf</td>\n",
              "      <td>6.553614e+07</td>\n",
              "      <td>4.336972e+07</td>\n",
              "      <td>1.199384e+08</td>\n",
              "      <td>6.553614e+07</td>\n",
              "      <td>1.200000e+08</td>\n",
              "      <td>6.553614e+07</td>\n",
              "      <td>6.624844e+07</td>\n",
              "      <td>1.199384e+08</td>\n",
              "      <td>6.553614e+07</td>\n",
              "      <td>1.198222e+08</td>\n",
              "      <td>3.980549e+07</td>\n",
              "      <td>6.894513e+07</td>\n",
              "      <td>1.194165e+08</td>\n",
              "      <td>258.000000</td>\n",
              "      <td>1.000000</td>\n",
              "      <td>0.0</td>\n",
              "      <td>0.0</td>\n",
              "      <td>0.0</td>\n",
              "      <td>1.012600e+05</td>\n",
              "      <td>1.472800e+05</td>\n",
              "      <td>3.000000e+06</td>\n",
              "      <td>2.000000e+06</td>\n",
              "      <td>1472.000000</td>\n",
              "      <td>36500.000000</td>\n",
              "      <td>4023.945355</td>\n",
              "      <td>6616.562066</td>\n",
              "      <td>4.377889e+07</td>\n",
              "      <td>0.0</td>\n",
              "      <td>1.000000</td>\n",
              "      <td>1.000000</td>\n",
              "      <td>0.0</td>\n",
              "      <td>1.000000</td>\n",
              "      <td>1.000000</td>\n",
              "      <td>1.000000</td>\n",
              "      <td>0.0</td>\n",
              "      <td>23.000000</td>\n",
              "      <td>4025.778588</td>\n",
              "      <td>3015.290539</td>\n",
              "      <td>5011.060159</td>\n",
              "      <td>1.012600e+05</td>\n",
              "      <td>0.0</td>\n",
              "      <td>0.0</td>\n",
              "      <td>0.0</td>\n",
              "      <td>0.0</td>\n",
              "      <td>0.0</td>\n",
              "      <td>0.0</td>\n",
              "      <td>85894.000000</td>\n",
              "      <td>1.526642e+07</td>\n",
              "      <td>4602.000000</td>\n",
              "      <td>1.099376e+07</td>\n",
              "      <td>65535.000000</td>\n",
              "      <td>65535.000000</td>\n",
              "      <td>5043.000000</td>\n",
              "      <td>1.480000e+03</td>\n",
              "      <td>1.721664e+07</td>\n",
              "      <td>2.853681e+07</td>\n",
              "      <td>6.783473e+07</td>\n",
              "      <td>1.721664e+07</td>\n",
              "      <td>1.147455e+08</td>\n",
              "      <td>6.600292e+07</td>\n",
              "      <td>1.147455e+08</td>\n",
              "      <td>1.147455e+08</td>\n",
              "      <td>1.000000</td>\n",
              "    </tr>\n",
              "  </tbody>\n",
              "</table>\n",
              "</div>"
            ],
            "text/plain": [
              "          Unnamed: 0   Source Port   Destination Port      Protocol   Flow Duration   Total Fwd Packets   Total Backward Packets  Total Length of Fwd Packets   Total Length of Bwd Packets   Fwd Packet Length Max   Fwd Packet Length Min   Fwd Packet Length Mean   Fwd Packet Length Std  Bwd Packet Length Max   Bwd Packet Length Min   Bwd Packet Length Mean   Bwd Packet Length Std  Flow Bytes/s   Flow Packets/s   Flow IAT Mean   Flow IAT Std   Flow IAT Max   Flow IAT Min  Fwd IAT Total   Fwd IAT Mean   Fwd IAT Std   Fwd IAT Max   Fwd IAT Min  Bwd IAT Total   Bwd IAT Mean   Bwd IAT Std   Bwd IAT Max   Bwd IAT Min  Fwd PSH Flags   Bwd PSH Flags   Fwd URG Flags   Bwd URG Flags   Fwd Header Length   Bwd Header Length  Fwd Packets/s   Bwd Packets/s   Min Packet Length   Max Packet Length   Packet Length Mean   Packet Length Std   Packet Length Variance  FIN Flag Count   SYN Flag Count   RST Flag Count   PSH Flag Count   ACK Flag Count   URG Flag Count   CWE Flag Count   ECE Flag Count  \\\n",
              "count   37939.000000  37939.000000       37939.000000  37939.000000    3.793900e+04        37939.000000         37939.000000             3.793900e+04                 3.793900e+04                  37939.000000            37939.000000            37939.000000             37939.000000            37939.000000           37939.000000            37939.000000             37939.000000     3.741200e+04     3.793900e+04    3.793900e+04   3.793900e+04   3.793900e+04   3.793900e+04   3.793900e+04   3.793900e+04  3.793900e+04  3.793900e+04  3.793900e+04   3.793900e+04   3.793900e+04  3.793900e+04  3.793900e+04  37939.000000   37939.000000         37939.0         37939.0         37939.0        3.793900e+04        3.793900e+04   3.793900e+04    3.793900e+04        37939.000000        37939.000000         37939.000000        37939.000000         3.793900e+04             37939.0     37939.000000     37939.000000          37939.0     37939.000000     37939.000000     37939.000000          37939.0   \n",
              "mean    80511.804001  29681.357152       25279.543926     12.700387    4.872394e+06           18.162814             2.440549             5.528628e+03                 2.433303e+03                    478.406574              430.702364              442.997757                16.785171              104.955323               9.148053               32.330230                30.711523              inf              inf    3.437452e+05   5.876311e+05   1.802148e+06   1.561774e+04   4.759764e+06   4.048472e+05  6.361899e+05  1.728684e+06  1.527173e+04   1.606256e+06   1.630198e+05  3.228976e+05  8.332278e+05      0.932787       0.038483             0.0             0.0             0.0       -1.061402e+09       -3.109189e+06   7.851493e+05    2.669480e+03          430.389072          545.258336           452.766906           32.402328         2.211339e+04                 0.0         0.001871         0.038483              0.0         0.203985         0.168771         0.095337              0.0   \n",
              "std    124259.195625  25564.215528       22407.050721      5.489319    2.104098e+07          600.696035            38.946746             9.678640e+04                 1.073870e+05                    607.156214              561.259756              556.118539                74.393036              719.486189              35.128713              144.985091               164.221295              NaN              NaN    1.525892e+06   2.327309e+06   7.573354e+06   6.321497e+05   2.101288e+07   1.751301e+06  2.643007e+06  7.545030e+06  6.322486e+05   1.136440e+07   1.402856e+06  2.590013e+06  6.178939e+06      5.741751       0.192361             0.0             0.0             0.0        1.339527e+10        8.105094e+07   8.923428e+05    4.135035e+04          561.213107          889.311054           554.882546          145.134531         4.430367e+05                 0.0         0.043220         0.192361              0.0         0.402964         0.374554         0.293684              0.0   \n",
              "min         0.000000      0.000000           0.000000      0.000000    0.000000e+00            1.000000             0.000000             0.000000e+00                 0.000000e+00                      0.000000                0.000000                0.000000                 0.000000                0.000000               0.000000                0.000000                 0.000000     0.000000e+00     3.051751e-02    0.000000e+00   0.000000e+00   0.000000e+00   0.000000e+00   0.000000e+00   0.000000e+00  0.000000e+00  0.000000e+00  0.000000e+00   0.000000e+00   0.000000e+00  0.000000e+00  0.000000e+00      0.000000       0.000000             0.0             0.0             0.0       -2.125438e+11       -2.125438e+09   0.000000e+00    0.000000e+00            0.000000            0.000000             0.000000            0.000000         0.000000e+00                 0.0         0.000000         0.000000              0.0         0.000000         0.000000         0.000000              0.0   \n",
              "25%      4529.000000    779.000000         443.000000      6.000000    1.000000e+00            2.000000             0.000000             0.000000e+00                 0.000000e+00                      0.000000                0.000000                0.000000                 0.000000                0.000000               0.000000                0.000000                 0.000000     0.000000e+00     1.898028e+02    1.000000e+00   0.000000e+00   1.000000e+00   1.000000e+00   1.000000e+00   1.000000e+00  0.000000e+00  1.000000e+00  1.000000e+00   0.000000e+00   0.000000e+00  0.000000e+00  0.000000e+00      0.000000       0.000000             0.0             0.0             0.0       -2.000000e+00        0.000000e+00   4.881740e+01    0.000000e+00            0.000000            0.000000             0.000000            0.000000         0.000000e+00                 0.0         0.000000         0.000000              0.0         0.000000         0.000000         0.000000              0.0   \n",
              "50%     28946.000000  35795.000000       22373.000000     17.000000    3.800000e+01            2.000000             0.000000             7.500000e+02                 0.000000e+00                    369.000000              229.000000              229.000000                 0.000000                0.000000               0.000000                0.000000                 0.000000     4.695118e+04     7.692308e+04    1.733333e+01   0.000000e+00   3.800000e+01   1.000000e+00   2.000000e+00   2.000000e+00  0.000000e+00  2.000000e+00  1.000000e+00   0.000000e+00   0.000000e+00  0.000000e+00  0.000000e+00      0.000000       0.000000             0.0             0.0             0.0        3.200000e+01        0.000000e+00   4.166667e+04    0.000000e+00          229.000000          369.000000           229.000000            0.000000         0.000000e+00                 0.0         0.000000         0.000000              0.0         0.000000         0.000000         0.000000              0.0   \n",
              "75%    103170.000000  54929.500000       46633.500000     17.000000    4.529050e+04            4.000000             2.000000             2.896000e+03                 0.000000e+00                    566.000000              463.000000              472.000000                 0.000000                0.000000               0.000000                0.000000                 0.000000     8.380000e+08     2.000000e+06    6.984167e+03   1.205816e+04   2.839650e+04   2.000000e+00   5.400000e+02   1.395013e+02  1.431938e+02  4.430000e+02  2.000000e+00   1.000000e+00   1.000000e+00  0.000000e+00  1.000000e+00      1.000000       0.000000             0.0             0.0             0.0        6.000000e+01        4.000000e+01   2.000000e+06    1.528487e+00          463.000000         1073.000000           499.864865            8.763561         7.680000e+01                 0.0         0.000000         0.000000              0.0         0.000000         0.000000         0.000000              0.0   \n",
              "max    777282.000000  65518.000000       65528.000000     17.000000    1.200000e+08        85894.000000          4602.000000             1.526642e+07                 1.099376e+07                  32120.000000             2020.000000             3015.290539              2221.556055            36500.000000            1460.000000             5011.060159              7045.095260              inf              inf    6.553614e+07   4.336972e+07   1.199384e+08   6.553614e+07   1.200000e+08   6.553614e+07  6.624844e+07  1.199384e+08  6.553614e+07   1.198222e+08   3.980549e+07  6.894513e+07  1.194165e+08    258.000000       1.000000             0.0             0.0             0.0        1.012600e+05        1.472800e+05   3.000000e+06    2.000000e+06         1472.000000        36500.000000          4023.945355         6616.562066         4.377889e+07                 0.0         1.000000         1.000000              0.0         1.000000         1.000000         1.000000              0.0   \n",
              "\n",
              "        Down/Up Ratio   Average Packet Size   Avg Fwd Segment Size   Avg Bwd Segment Size   Fwd Header Length.1  Fwd Avg Bytes/Bulk   Fwd Avg Packets/Bulk   Fwd Avg Bulk Rate   Bwd Avg Bytes/Bulk   Bwd Avg Packets/Bulk  Bwd Avg Bulk Rate  Subflow Fwd Packets   Subflow Fwd Bytes   Subflow Bwd Packets   Subflow Bwd Bytes  Init_Win_bytes_forward   Init_Win_bytes_backward   act_data_pkt_fwd   min_seg_size_forward   Active Mean    Active Std    Active Max    Active Min     Idle Mean      Idle Std      Idle Max      Idle Min       Inbound  \n",
              "count    37939.000000         37939.000000          37939.000000           37939.000000           3.793900e+04              37939.0              37939.0               37939.0              37939.0              37939.0              37939.0         37939.000000        3.793900e+04         37939.000000         3.793900e+04         37939.000000            37939.000000            37939.000000         3.793900e+04    3.793900e+04  3.793900e+04  3.793900e+04  3.793900e+04  3.793900e+04  3.793900e+04  3.793900e+04  3.793900e+04  37939.000000  \n",
              "mean         0.322913           652.983628            442.997757              32.330230          -1.061402e+09                  0.0                  0.0                   0.0                  0.0                  0.0                  0.0            18.162814        5.528628e+03             2.440549         2.433303e+03          4287.950737              941.398139               10.177891        -2.750703e+07    1.807635e+04  5.611609e+03  2.676660e+04  1.472205e+04  1.268144e+06  1.992520e+05  1.561112e+06  1.070010e+06      0.752076  \n",
              "std          0.703294           833.845862            556.118539             144.985091           1.339527e+10                  0.0                  0.0                   0.0                  0.0                  0.0                  0.0           600.696035        9.678640e+04            38.946746         1.073870e+05         12921.298190             5627.300057               51.580437         1.687495e+08    3.002120e+05  1.762554e+05  4.956883e+05  2.651533e+05  6.177043e+06  1.446170e+06  7.311421e+06  5.671676e+06      0.431813  \n",
              "min          0.000000             0.000000              0.000000               0.000000          -2.125438e+11                  0.0                  0.0                   0.0                  0.0                  0.0                  0.0             1.000000        0.000000e+00             0.000000         0.000000e+00            -1.000000               -1.000000                0.000000        -1.062719e+09    0.000000e+00  0.000000e+00  0.000000e+00  0.000000e+00  0.000000e+00  0.000000e+00  0.000000e+00  0.000000e+00      0.000000  \n",
              "25%          0.000000             0.000000              0.000000               0.000000          -2.000000e+00                  0.0                  0.0                   0.0                  0.0                  0.0                  0.0             2.000000        0.000000e+00             0.000000         0.000000e+00            -1.000000               -1.000000                0.000000        -1.000000e+00    0.000000e+00  0.000000e+00  0.000000e+00  0.000000e+00  0.000000e+00  0.000000e+00  0.000000e+00  0.000000e+00      1.000000  \n",
              "50%          0.000000           343.500000            229.000000               0.000000           3.200000e+01                  0.0                  0.0                   0.0                  0.0                  0.0                  0.0             2.000000        7.500000e+02             0.000000         0.000000e+00            -1.000000               -1.000000                1.000000         2.000000e+01    0.000000e+00  0.000000e+00  0.000000e+00  0.000000e+00  0.000000e+00  0.000000e+00  0.000000e+00  0.000000e+00      1.000000  \n",
              "75%          0.000000           722.048507            472.000000               0.000000           6.000000e+01                  0.0                  0.0                   0.0                  0.0                  0.0                  0.0             4.000000        2.896000e+03             2.000000         0.000000e+00           293.000000               -1.000000                1.000000         2.000000e+01    0.000000e+00  0.000000e+00  0.000000e+00  0.000000e+00  0.000000e+00  0.000000e+00  0.000000e+00  0.000000e+00      1.000000  \n",
              "max         23.000000          4025.778588           3015.290539            5011.060159           1.012600e+05                  0.0                  0.0                   0.0                  0.0                  0.0                  0.0         85894.000000        1.526642e+07          4602.000000         1.099376e+07         65535.000000            65535.000000             5043.000000         1.480000e+03    1.721664e+07  2.853681e+07  6.783473e+07  1.721664e+07  1.147455e+08  6.600292e+07  1.147455e+08  1.147455e+08      1.000000  "
            ]
          },
          "execution_count": 4,
          "metadata": {},
          "output_type": "execute_result"
        }
      ],
      "source": [
        "# Adjust display settings\n",
        "pd.set_option('display.max_columns', 100)  # Set to 100 or any number >= 78 to display all columns\n",
        "pd.set_option('display.max_rows', 100)  # Adjust based on how many rows you want to see\n",
        "pd.set_option('display.width', 1000)  # Adjust the width to fit your screen\n",
        "pd.set_option('display.max_colwidth', 20)  # Adjust column width to your preference\n",
        "\n",
        "# Now, when you print descriptive statistics, all columns should be visible\n",
        "df.describe()"
      ]
    },
    {
      "cell_type": "markdown",
      "metadata": {
        "id": "n5B7QmQPJaA7"
      },
      "source": [
        "## Frequency Counts for Categorical Variable"
      ]
    },
    {
      "cell_type": "code",
      "execution_count": 5,
      "metadata": {
        "colab": {
          "base_uri": "https://localhost:8080/"
        },
        "id": "vtjVt-aQJY9x",
        "outputId": "a657b1ce-efc1-4ce7-9eb5-699efe8adbd4"
      },
      "outputs": [
        {
          "data": {
            "text/plain": [
              " Label\n",
              "BENIGN           10000\n",
              "DrDoS_DNS         2500\n",
              "DrDoS_LDAP        2500\n",
              "DrDoS_MSSQL       2500\n",
              "DrDoS_NetBIOS     2500\n",
              "DrDoS_NTP         2500\n",
              "DrDoS_SNMP        2500\n",
              "DrDoS_SSDP        2500\n",
              "DrDoS_UDP         2500\n",
              "Syn               2500\n",
              "TFTP              2500\n",
              "UDP-lag           2500\n",
              "WebDDoS            439\n",
              "Name: count, dtype: int64"
            ]
          },
          "execution_count": 5,
          "metadata": {},
          "output_type": "execute_result"
        }
      ],
      "source": [
        "# Frequency counts for a single categorical column\n",
        "frequency_counts = df[' Label'].value_counts()\n",
        "\n",
        "frequency_counts"
      ]
    },
    {
      "cell_type": "code",
      "execution_count": 6,
      "metadata": {
        "colab": {
          "base_uri": "https://localhost:8080/"
        },
        "id": "YgU6H3A_Jecp",
        "outputId": "a85874c5-36fe-464b-a069-e461fe882b14"
      },
      "outputs": [
        {
          "data": {
            "image/png": "[encoded data removed]",
            "text/plain": [
              "<Figure size 1200x800 with 1 Axes>"
            ]
          },
          "metadata": {},
          "output_type": "display_data"
        }
      ],
      "source": [
        "# Assuming 'label_counts' is a pandas Series with your frequency counts\n",
        "label_counts = df[' Label'].value_counts()\n",
        "\n",
        "# Generate as many colors as there are labels using a colormap\n",
        "colors = plt.cm.viridis(np.linspace(0, 1, len(label_counts)))\n",
        "\n",
        "# Create a bar chart with custom colors and a black line border around each bar\n",
        "plt.figure(figsize=(12, 8))\n",
        "bars = plt.bar(label_counts.index, label_counts.values, color=colors, edgecolor='black')\n",
        "\n",
        "# Add grid lines and place them behind the bars\n",
        "plt.grid(True, which='major', linestyle='--', linewidth='0.5', color='grey')\n",
        "plt.gca().set_axisbelow(True)\n",
        "\n",
        "# Use logarithmic scale for better visibility of small bars\n",
        "#plt.yscale('log')\n",
        "\n",
        "# Add labels for small values to make them visible\n",
        "for i, val in enumerate(label_counts):\n",
        "    plt.text(i, val, str(val), ha='center', va='bottom')\n",
        "\n",
        "# Add title and labels\n",
        "plt.title('Bar Chart of Label')\n",
        "plt.xlabel(' Label')\n",
        "plt.ylabel('Frequency ')\n",
        "\n",
        "# Rotate the x-axis labels for better readability\n",
        "plt.xticks(rotation=45, ha='right')\n",
        "\n",
        "# Create a legend (useful if colors have specific meanings)\n",
        "plt.legend(bars, label_counts.index, title=\"Types\", bbox_to_anchor=(1.05, 1), loc='upper left')\n",
        "\n",
        "# Apply tight layout to ensure no overlap of items\n",
        "plt.tight_layout()\n",
        "\n",
        "# Show the plot\n",
        "plt.show()\n"
      ]
    },
    {
      "cell_type": "markdown",
      "metadata": {
        "id": "IvLJZY9NEmWb"
      },
      "source": [
        "# Data Preparation"
      ]
    },
    {
      "cell_type": "markdown",
      "metadata": {
        "id": "PIehxdK4qiEG"
      },
      "source": [
        "## Data Cleaning"
      ]
    },
    {
      "cell_type": "markdown",
      "metadata": {
        "id": "cpIaIvwIqiEG"
      },
      "source": [
        "### Drop Irrelevant Features\n",
        "\n",
        "10 features are excluded from the dataset. The hypothesis is that the \"shape\" of the data being transmitted is more important than these attributes. In addition, ports and addresses can be substituted by an attacker, so it is better that the ML algorithm does not take these features into account in training [Kostas, 2018]."
      ]
    },
    {
      "cell_type": "code",
      "execution_count": 7,
      "metadata": {
        "id": "4LCOoo0xqiEH"
      },
      "outputs": [],
      "source": [
        "df = df.drop(['Unnamed: 0', 'Flow ID', ' Source IP', ' Source Port', ' Destination IP', ' Destination Port', ' Timestamp',' Protocol','SimillarHTTP', ' Inbound'], axis = 1)"
      ]
    },
    {
      "cell_type": "markdown",
      "metadata": {
        "id": "dbsiUH_SRGoB"
      },
      "source": [
        "Below at the stage of importance estimation the \"Init_Win_bytes_backward\" feature has the maximum value. After viewing the source dataset, it seems that an inaccuracy was made in forming the dataset. It turns out that it is possible to make a fairly accurate classification by one feature.\n",
        "\n",
        " Init_Win_bytes_backward - The total number of bytes sent in initial window in the backward direction\n",
        "\n",
        " Init_Win_bytes_forward - The total number of bytes sent in initial window in the forward direction"
      ]
    },
    {
      "cell_type": "code",
      "execution_count": 8,
      "metadata": {
        "colab": {
          "base_uri": "https://localhost:8080/"
        },
        "id": "fS0uC85GQ4WV",
        "outputId": "d1aa41a6-efc0-4f38-a70a-7227f5dca597"
      },
      "outputs": [
        {
          "data": {
            "image/png": "[encoded data removed]",
            "text/plain": [
              "<Figure size 600x400 with 1 Axes>"
            ]
          },
          "metadata": {},
          "output_type": "display_data"
        }
      ],
      "source": [
        "if ' Init_Win_bytes_backward' in df.columns:\n",
        "    df[' Init_Win_bytes_backward'].hist(figsize=(6,4), bins=10);\n",
        "    plt.title(\"Init_Win_bytes_backward\")\n",
        "    plt.xlabel(\"Value bins\")\n",
        "    plt.ylabel(\"Density\")\n"
      ]
    },
    {
      "cell_type": "code",
      "execution_count": 9,
      "metadata": {
        "colab": {
          "base_uri": "https://localhost:8080/"
        },
        "id": "_77pp5g6Rgb_",
        "outputId": "74945376-d1d8-43e8-e3d3-fe7b270e7e9d"
      },
      "outputs": [
        {
          "data": {
            "image/png": "[encoded data removed]",
            "text/plain": [
              "<Figure size 600x400 with 1 Axes>"
            ]
          },
          "metadata": {},
          "output_type": "display_data"
        }
      ],
      "source": [
        "if 'Init_Win_bytes_forward' in df.columns:\n",
        "    df['Init_Win_bytes_forward'].hist(figsize=(6,4), bins=10);\n",
        "    plt.title(\"Init_Win_bytes_forward\")\n",
        "    plt.xlabel(\"Value bins\")\n",
        "    plt.ylabel(\"Density\")\n"
      ]
    },
    {
      "cell_type": "code",
      "execution_count": 10,
      "metadata": {
        "id": "cnF3tVvtRl5Y"
      },
      "outputs": [],
      "source": [
        "features_to_drop =[' Init_Win_bytes_backward', 'Init_Win_bytes_forward']\n",
        "\n",
        "# Drop the features\n",
        "df = df.drop(columns=features_to_drop)"
      ]
    },
    {
      "cell_type": "markdown",
      "metadata": {
        "id": "ntOHAsHr4i1P"
      },
      "source": [
        "The columns \"Fwd Header Length\" and \"Fwd Header Length.1\" are identical, the second one is removed"
      ]
    },
    {
      "cell_type": "code",
      "execution_count": 11,
      "metadata": {
        "id": "NQNEGNF24ilq"
      },
      "outputs": [],
      "source": [
        "features_to_drop =[' Fwd Header Length.1']\n",
        "\n",
        "# Drop the features\n",
        "df = df.drop(columns=features_to_drop)"
      ]
    },
    {
      "cell_type": "markdown",
      "metadata": {
        "id": "vYFobbz62o7r"
      },
      "source": [
        "### Drop Features except mean values"
      ]
    },
    {
      "cell_type": "markdown",
      "metadata": {
        "id": "dXLZJfI22sg8"
      },
      "source": [
        "At the top, I have removed s FlowID (FID), SourceIP (SrcIP), SourcePort (SrcP), DestinationIP\n",
        "(DesIP), DestinationPort (DesP), Protocol, and Timestamp (TS) because  the \"shape\" of the data being transmitted is more important than these attributes.\n",
        "\n",
        "Then, I also removed Init_Win_bytes_backward and Init_Win_bytes_forward - The total number of bytes sent in initial window in the forward direction because it seems that an inaccuracy was made in forming the dataset.\n",
        "\n",
        "Now, I will removed all features except for the mean value were removed from\n",
        "the dataset. The eliminated features include Fwd IAT Total.\n",
        "\n"
      ]
    },
    {
      "cell_type": "code",
      "execution_count": 12,
      "metadata": {
        "id": "Hxdpperi3vO4"
      },
      "outputs": [],
      "source": [
        "df = df.drop(['Fwd IAT Total'], axis = 1)"
      ]
    },
    {
      "cell_type": "code",
      "execution_count": 13,
      "metadata": {
        "colab": {
          "base_uri": "https://localhost:8080/"
        },
        "id": "yTBymWa4ayHZ",
        "outputId": "e86cee83-e932-4198-fd75-e263c8813898"
      },
      "outputs": [
        {
          "data": {
            "text/plain": [
              "(37939, 74)"
            ]
          },
          "execution_count": 13,
          "metadata": {},
          "output_type": "execute_result"
        }
      ],
      "source": [
        "df.shape"
      ]
    },
    {
      "cell_type": "markdown",
      "metadata": {
        "id": "f4lmwR-xqiEH"
      },
      "source": [
        "### Drop Duplicate Rows"
      ]
    },
    {
      "cell_type": "code",
      "execution_count": 14,
      "metadata": {
        "colab": {
          "base_uri": "https://localhost:8080/"
        },
        "id": "vt1ok2myqiEH",
        "outputId": "a6a29daa-f449-4e4c-e0a8-89a5a7d1b9a5"
      },
      "outputs": [
        {
          "name": "stdout",
          "output_type": "stream",
          "text": [
            "Number of duplicate rows:  18743\n"
          ]
        }
      ],
      "source": [
        "duplicate_rows = df.duplicated()\n",
        "\n",
        "print(\"Number of duplicate rows: \", duplicate_rows.sum())"
      ]
    },
    {
      "cell_type": "code",
      "execution_count": 15,
      "metadata": {
        "colab": {
          "base_uri": "https://localhost:8080/"
        },
        "id": "BpWKw0-VqiEH",
        "outputId": "2cd6a864-4bcd-4bb3-df69-0b6d15acd1f1"
      },
      "outputs": [
        {
          "name": "stdout",
          "output_type": "stream",
          "text": [
            "Data Shape After Duplicate Rows: (19196, 74)\n"
          ]
        }
      ],
      "source": [
        "# Remove duplicate rows\n",
        "df.drop_duplicates(inplace=True)\n",
        "\n",
        "print(\"Data Shape After Duplicate Rows:\", df.shape)"
      ]
    },
    {
      "cell_type": "markdown",
      "metadata": {
        "id": "KQSOLCMDqiEH"
      },
      "source": [
        "### Drop Missing Values (Rows)"
      ]
    },
    {
      "cell_type": "code",
      "execution_count": 16,
      "metadata": {
        "colab": {
          "base_uri": "https://localhost:8080/"
        },
        "id": "UtzmbIJPrF2f",
        "outputId": "6c2ed078-6cfe-4ab8-f0b6-417f66dd63b0"
      },
      "outputs": [
        {
          "name": "stdout",
          "output_type": "stream",
          "text": [
            "Columns with missing values:\n",
            " Flow Bytes/s    10\n",
            "dtype: int64\n"
          ]
        }
      ],
      "source": [
        "# Calculate the number of missing values in each column\n",
        "missing_values = df.isnull().sum()\n",
        "\n",
        "# Filter and print columns with missing values only\n",
        "missing_columns = missing_values[missing_values > 0]\n",
        "print(\"Columns with missing values:\\n\", missing_columns)"
      ]
    },
    {
      "cell_type": "code",
      "execution_count": 17,
      "metadata": {
        "colab": {
          "base_uri": "https://localhost:8080/"
        },
        "id": "GZLGmC99qiEH",
        "outputId": "e30eb246-3bd1-47e7-85b0-fd5e09af1377"
      },
      "outputs": [
        {
          "name": "stdout",
          "output_type": "stream",
          "text": [
            "Missing values in each column after cleaning:\n",
            "  Flow Duration                  0\n",
            " Total Fwd Packets              0\n",
            " Total Backward Packets         0\n",
            "Total Length of Fwd Packets     0\n",
            " Total Length of Bwd Packets    0\n",
            " Fwd Packet Length Max          0\n",
            " Fwd Packet Length Min          0\n",
            " Fwd Packet Length Mean         0\n",
            " Fwd Packet Length Std          0\n",
            "Bwd Packet Length Max           0\n",
            " Bwd Packet Length Min          0\n",
            " Bwd Packet Length Mean         0\n",
            " Bwd Packet Length Std          0\n",
            "Flow Bytes/s                    0\n",
            " Flow Packets/s                 0\n",
            " Flow IAT Mean                  0\n",
            " Flow IAT Std                   0\n",
            " Flow IAT Max                   0\n",
            " Flow IAT Min                   0\n",
            " Fwd IAT Mean                   0\n",
            " Fwd IAT Std                    0\n",
            " Fwd IAT Max                    0\n",
            " Fwd IAT Min                    0\n",
            "Bwd IAT Total                   0\n",
            " Bwd IAT Mean                   0\n",
            " Bwd IAT Std                    0\n",
            " Bwd IAT Max                    0\n",
            " Bwd IAT Min                    0\n",
            "Fwd PSH Flags                   0\n",
            " Bwd PSH Flags                  0\n",
            " Fwd URG Flags                  0\n",
            " Bwd URG Flags                  0\n",
            " Fwd Header Length              0\n",
            " Bwd Header Length              0\n",
            "Fwd Packets/s                   0\n",
            " Bwd Packets/s                  0\n",
            " Min Packet Length              0\n",
            " Max Packet Length              0\n",
            " Packet Length Mean             0\n",
            " Packet Length Std              0\n",
            " Packet Length Variance         0\n",
            "FIN Flag Count                  0\n",
            " SYN Flag Count                 0\n",
            " RST Flag Count                 0\n",
            " PSH Flag Count                 0\n",
            " ACK Flag Count                 0\n",
            " URG Flag Count                 0\n",
            " CWE Flag Count                 0\n",
            " ECE Flag Count                 0\n",
            " Down/Up Ratio                  0\n",
            " Average Packet Size            0\n",
            " Avg Fwd Segment Size           0\n",
            " Avg Bwd Segment Size           0\n",
            "Fwd Avg Bytes/Bulk              0\n",
            " Fwd Avg Packets/Bulk           0\n",
            " Fwd Avg Bulk Rate              0\n",
            " Bwd Avg Bytes/Bulk             0\n",
            " Bwd Avg Packets/Bulk           0\n",
            "Bwd Avg Bulk Rate               0\n",
            "Subflow Fwd Packets             0\n",
            " Subflow Fwd Bytes              0\n",
            " Subflow Bwd Packets            0\n",
            " Subflow Bwd Bytes              0\n",
            " act_data_pkt_fwd               0\n",
            " min_seg_size_forward           0\n",
            "Active Mean                     0\n",
            " Active Std                     0\n",
            " Active Max                     0\n",
            " Active Min                     0\n",
            "Idle Mean                       0\n",
            " Idle Std                       0\n",
            " Idle Max                       0\n",
            " Idle Min                       0\n",
            " Label                          0\n",
            "dtype: int64\n"
          ]
        }
      ],
      "source": [
        "# Drop rows with any missing values\n",
        "df = df.dropna()\n",
        "\n",
        "# If you want to check the results\n",
        "missing_values_cleaned = df.isnull().sum()\n",
        "print(\"Missing values in each column after cleaning:\\n\", missing_values_cleaned)"
      ]
    },
    {
      "cell_type": "code",
      "execution_count": 18,
      "metadata": {
        "colab": {
          "base_uri": "https://localhost:8080/"
        },
        "id": "gej8t3wva8vo",
        "outputId": "1fd8a789-7ad2-4906-d6dc-7c52ee940b1f"
      },
      "outputs": [
        {
          "data": {
            "text/plain": [
              "(19186, 74)"
            ]
          },
          "execution_count": 18,
          "metadata": {},
          "output_type": "execute_result"
        }
      ],
      "source": [
        "df.shape"
      ]
    },
    {
      "cell_type": "markdown",
      "metadata": {
        "id": "x-OqElmxqiEH"
      },
      "source": [
        "### Identify inf value"
      ]
    },
    {
      "cell_type": "code",
      "execution_count": 19,
      "metadata": {
        "colab": {
          "base_uri": "https://localhost:8080/"
        },
        "id": "PxUBgZFbqiEI",
        "outputId": "95fb77e3-1a6d-4868-c0ab-49f1e3b7d196"
      },
      "outputs": [
        {
          "name": "stderr",
          "output_type": "stream",
          "text": [
            "C:\\Users\\Nur Ayu Amira\\AppData\\Local\\Temp\\ipykernel_42868\\2341812698.py:6: FutureWarning: DataFrame.applymap has been deprecated. Use DataFrame.map instead.\n",
            "  inf_values = df.select_dtypes(include=[np.number]).applymap(np.isinf)\n"
          ]
        },
        {
          "name": "stdout",
          "output_type": "stream",
          "text": [
            "Infinite values in each column:\n",
            "  Flow Duration                   0\n",
            " Total Fwd Packets               0\n",
            " Total Backward Packets          0\n",
            "Total Length of Fwd Packets      0\n",
            " Total Length of Bwd Packets     0\n",
            " Fwd Packet Length Max           0\n",
            " Fwd Packet Length Min           0\n",
            " Fwd Packet Length Mean          0\n",
            " Fwd Packet Length Std           0\n",
            "Bwd Packet Length Max            0\n",
            " Bwd Packet Length Min           0\n",
            " Bwd Packet Length Mean          0\n",
            " Bwd Packet Length Std           0\n",
            "Flow Bytes/s                    93\n",
            " Flow Packets/s                 93\n",
            " Flow IAT Mean                   0\n",
            " Flow IAT Std                    0\n",
            " Flow IAT Max                    0\n",
            " Flow IAT Min                    0\n",
            " Fwd IAT Mean                    0\n",
            " Fwd IAT Std                     0\n",
            " Fwd IAT Max                     0\n",
            " Fwd IAT Min                     0\n",
            "Bwd IAT Total                    0\n",
            " Bwd IAT Mean                    0\n",
            " Bwd IAT Std                     0\n",
            " Bwd IAT Max                     0\n",
            " Bwd IAT Min                     0\n",
            "Fwd PSH Flags                    0\n",
            " Bwd PSH Flags                   0\n",
            " Fwd URG Flags                   0\n",
            " Bwd URG Flags                   0\n",
            " Fwd Header Length               0\n",
            " Bwd Header Length               0\n",
            "Fwd Packets/s                    0\n",
            " Bwd Packets/s                   0\n",
            " Min Packet Length               0\n",
            " Max Packet Length               0\n",
            " Packet Length Mean              0\n",
            " Packet Length Std               0\n",
            " Packet Length Variance          0\n",
            "FIN Flag Count                   0\n",
            " SYN Flag Count                  0\n",
            " RST Flag Count                  0\n",
            " PSH Flag Count                  0\n",
            " ACK Flag Count                  0\n",
            " URG Flag Count                  0\n",
            " CWE Flag Count                  0\n",
            " ECE Flag Count                  0\n",
            " Down/Up Ratio                   0\n",
            " Average Packet Size             0\n",
            " Avg Fwd Segment Size            0\n",
            " Avg Bwd Segment Size            0\n",
            "Fwd Avg Bytes/Bulk               0\n",
            " Fwd Avg Packets/Bulk            0\n",
            " Fwd Avg Bulk Rate               0\n",
            " Bwd Avg Bytes/Bulk              0\n",
            " Bwd Avg Packets/Bulk            0\n",
            "Bwd Avg Bulk Rate                0\n",
            "Subflow Fwd Packets              0\n",
            " Subflow Fwd Bytes               0\n",
            " Subflow Bwd Packets             0\n",
            " Subflow Bwd Bytes               0\n",
            " act_data_pkt_fwd                0\n",
            " min_seg_size_forward            0\n",
            "Active Mean                      0\n",
            " Active Std                      0\n",
            " Active Max                      0\n",
            " Active Min                      0\n",
            "Idle Mean                        0\n",
            " Idle Std                        0\n",
            " Idle Max                        0\n",
            " Idle Min                        0\n",
            "dtype: int64\n"
          ]
        }
      ],
      "source": [
        "# Check which rows contain infinite values\n",
        "rows_with_infinite = df[df.isin([np.inf, -np.inf]).any(axis=1)]\n",
        "\n",
        "# Display the rows with infinite values\n",
        "rows_with_infinite# Check for infinite values in the DataFrame's numerical columns\n",
        "inf_values = df.select_dtypes(include=[np.number]).applymap(np.isinf)\n",
        "\n",
        "# Count the number of infinite values in each column\n",
        "inf_counts = inf_values.sum()\n",
        "print(\"Infinite values in each column:\\n\", inf_counts)"
      ]
    },
    {
      "cell_type": "code",
      "execution_count": 20,
      "metadata": {
        "id": "6xMvzatFqiEI"
      },
      "outputs": [],
      "source": [
        "# Replace 'inf' values with NaN\n",
        "df.replace([np.inf, -np.inf], np.nan, inplace=True) #Drop NaN Values\n",
        "\n",
        "# Drop rows with NaN values that were previously 'inf'\n",
        "df.dropna(inplace=True)"
      ]
    },
    {
      "cell_type": "code",
      "execution_count": 21,
      "metadata": {
        "colab": {
          "base_uri": "https://localhost:8080/"
        },
        "id": "zw_-RiGKbATk",
        "outputId": "de36a491-d493-418a-e461-03f10da70024"
      },
      "outputs": [
        {
          "data": {
            "text/plain": [
              "(19093, 74)"
            ]
          },
          "execution_count": 21,
          "metadata": {},
          "output_type": "execute_result"
        }
      ],
      "source": [
        "df.shape"
      ]
    },
    {
      "cell_type": "code",
      "execution_count": 22,
      "metadata": {
        "colab": {
          "base_uri": "https://localhost:8080/"
        },
        "id": "dW0-6jDRqiEI",
        "outputId": "2dfd44ba-95cb-402e-fd3c-04603a55bfdd"
      },
      "outputs": [
        {
          "name": "stdout",
          "output_type": "stream",
          "text": [
            "NaN values in each column:\n",
            "  Flow Duration                  0\n",
            " Total Fwd Packets              0\n",
            " Total Backward Packets         0\n",
            "Total Length of Fwd Packets     0\n",
            " Total Length of Bwd Packets    0\n",
            " Fwd Packet Length Max          0\n",
            " Fwd Packet Length Min          0\n",
            " Fwd Packet Length Mean         0\n",
            " Fwd Packet Length Std          0\n",
            "Bwd Packet Length Max           0\n",
            " Bwd Packet Length Min          0\n",
            " Bwd Packet Length Mean         0\n",
            " Bwd Packet Length Std          0\n",
            "Flow Bytes/s                    0\n",
            " Flow Packets/s                 0\n",
            " Flow IAT Mean                  0\n",
            " Flow IAT Std                   0\n",
            " Flow IAT Max                   0\n",
            " Flow IAT Min                   0\n",
            " Fwd IAT Mean                   0\n",
            " Fwd IAT Std                    0\n",
            " Fwd IAT Max                    0\n",
            " Fwd IAT Min                    0\n",
            "Bwd IAT Total                   0\n",
            " Bwd IAT Mean                   0\n",
            " Bwd IAT Std                    0\n",
            " Bwd IAT Max                    0\n",
            " Bwd IAT Min                    0\n",
            "Fwd PSH Flags                   0\n",
            " Bwd PSH Flags                  0\n",
            " Fwd URG Flags                  0\n",
            " Bwd URG Flags                  0\n",
            " Fwd Header Length              0\n",
            " Bwd Header Length              0\n",
            "Fwd Packets/s                   0\n",
            " Bwd Packets/s                  0\n",
            " Min Packet Length              0\n",
            " Max Packet Length              0\n",
            " Packet Length Mean             0\n",
            " Packet Length Std              0\n",
            " Packet Length Variance         0\n",
            "FIN Flag Count                  0\n",
            " SYN Flag Count                 0\n",
            " RST Flag Count                 0\n",
            " PSH Flag Count                 0\n",
            " ACK Flag Count                 0\n",
            " URG Flag Count                 0\n",
            " CWE Flag Count                 0\n",
            " ECE Flag Count                 0\n",
            " Down/Up Ratio                  0\n",
            " Average Packet Size            0\n",
            " Avg Fwd Segment Size           0\n",
            " Avg Bwd Segment Size           0\n",
            "Fwd Avg Bytes/Bulk              0\n",
            " Fwd Avg Packets/Bulk           0\n",
            " Fwd Avg Bulk Rate              0\n",
            " Bwd Avg Bytes/Bulk             0\n",
            " Bwd Avg Packets/Bulk           0\n",
            "Bwd Avg Bulk Rate               0\n",
            "Subflow Fwd Packets             0\n",
            " Subflow Fwd Bytes              0\n",
            " Subflow Bwd Packets            0\n",
            " Subflow Bwd Bytes              0\n",
            " act_data_pkt_fwd               0\n",
            " min_seg_size_forward           0\n",
            "Active Mean                     0\n",
            " Active Std                     0\n",
            " Active Max                     0\n",
            " Active Min                     0\n",
            "Idle Mean                       0\n",
            " Idle Std                       0\n",
            " Idle Max                       0\n",
            " Idle Min                       0\n",
            " Label                          0\n",
            "dtype: int64\n",
            "Rows with NaN values:\n",
            " Empty DataFrame\n",
            "Columns: [ Flow Duration,  Total Fwd Packets,  Total Backward Packets, Total Length of Fwd Packets,  Total Length of Bwd Packets,  Fwd Packet Length Max,  Fwd Packet Length Min,  Fwd Packet Length Mean,  Fwd Packet Length Std, Bwd Packet Length Max,  Bwd Packet Length Min,  Bwd Packet Length Mean,  Bwd Packet Length Std, Flow Bytes/s,  Flow Packets/s,  Flow IAT Mean,  Flow IAT Std,  Flow IAT Max,  Flow IAT Min,  Fwd IAT Mean,  Fwd IAT Std,  Fwd IAT Max,  Fwd IAT Min, Bwd IAT Total,  Bwd IAT Mean,  Bwd IAT Std,  Bwd IAT Max,  Bwd IAT Min, Fwd PSH Flags,  Bwd PSH Flags,  Fwd URG Flags,  Bwd URG Flags,  Fwd Header Length,  Bwd Header Length, Fwd Packets/s,  Bwd Packets/s,  Min Packet Length,  Max Packet Length,  Packet Length Mean,  Packet Length Std,  Packet Length Variance, FIN Flag Count,  SYN Flag Count,  RST Flag Count,  PSH Flag Count,  ACK Flag Count,  URG Flag Count,  CWE Flag Count,  ECE Flag Count,  Down/Up Ratio,  Average Packet Size,  Avg Fwd Segment Size,  Avg Bwd Segment Size, Fwd Avg Bytes/Bulk,  Fwd Avg Packets/Bulk,  Fwd Avg Bulk Rate,  Bwd Avg Bytes/Bulk,  Bwd Avg Packets/Bulk, Bwd Avg Bulk Rate, Subflow Fwd Packets,  Subflow Fwd Bytes,  Subflow Bwd Packets,  Subflow Bwd Bytes,  act_data_pkt_fwd,  min_seg_size_forward, Active Mean,  Active Std,  Active Max,  Active Min, Idle Mean,  Idle Std,  Idle Max,  Idle Min,  Label]\n",
            "Index: []\n"
          ]
        }
      ],
      "source": [
        "# Assuming df is your DataFrame\n",
        "# Count the number of NaN values in each column\n",
        "nan_counts = df.isnull().sum()\n",
        "print(\"NaN values in each column:\\n\", nan_counts)\n",
        "\n",
        "# Optionally, you might want to see which rows have NaN values\n",
        "rows_with_nan = df[df.isnull().any(axis=1)]\n",
        "print(\"Rows with NaN values:\\n\", rows_with_nan)"
      ]
    },
    {
      "cell_type": "code",
      "execution_count": 23,
      "metadata": {
        "colab": {
          "base_uri": "https://localhost:8080/"
        },
        "id": "t7UnklCibEgv",
        "outputId": "62e5d2fb-d680-4cd6-b91a-ba9932daa6ca"
      },
      "outputs": [
        {
          "data": {
            "text/plain": [
              "(19093, 74)"
            ]
          },
          "execution_count": 23,
          "metadata": {},
          "output_type": "execute_result"
        }
      ],
      "source": [
        "df.shape"
      ]
    },
    {
      "cell_type": "markdown",
      "metadata": {
        "id": "tK2QoFZoqiEI"
      },
      "source": [
        "### Check if any column in DF has more 0 than 50% values"
      ]
    },
    {
      "cell_type": "code",
      "execution_count": 24,
      "metadata": {
        "colab": {
          "base_uri": "https://localhost:8080/"
        },
        "id": "E2wL4wnfqiEI",
        "outputId": "8a737e9a-c7cd-4f51-93aa-c57c0ddacd02"
      },
      "outputs": [
        {
          "name": "stdout",
          "output_type": "stream",
          "text": [
            "Columns identified for dropping (greater than 50% zeros):\n",
            "Index([' Total Length of Bwd Packets', ' Fwd Packet Length Std', 'Bwd Packet Length Max', ' Bwd Packet Length Min', ' Bwd Packet Length Mean', ' Bwd Packet Length Std', 'Bwd IAT Total', ' Bwd IAT Mean', ' Bwd IAT Std', ' Bwd IAT Max', ' Bwd IAT Min', 'Fwd PSH Flags', ' Bwd PSH Flags', ' Fwd URG Flags', ' Bwd URG Flags', 'FIN Flag Count', ' SYN Flag Count', ' RST Flag Count', ' PSH Flag Count', ' ACK Flag Count', ' URG Flag Count', ' CWE Flag Count', ' ECE Flag Count', ' Down/Up Ratio', ' Avg Bwd Segment Size', 'Fwd Avg Bytes/Bulk', ' Fwd Avg Packets/Bulk', ' Fwd Avg Bulk Rate', ' Bwd Avg Bytes/Bulk', ' Bwd Avg Packets/Bulk', 'Bwd Avg Bulk Rate', ' Subflow Bwd Bytes', 'Active Mean', ' Active Std', ' Active Max', ' Active Min', 'Idle Mean', ' Idle Std', ' Idle Max', ' Idle Min'], dtype='object')\n",
            "Total columns to drop: 40\n"
          ]
        }
      ],
      "source": [
        "# Calculate the percentage of zero values in each column\n",
        "zero_val_percent = (df == 0).astype(int).sum(axis=0) / df.shape[0] * 100\n",
        "\n",
        "# Set a threshold for dropping columns\n",
        "threshold = 50  # 50% zero values\n",
        "\n",
        "# Identify columns where the percentage of zero values is greater than the threshold\n",
        "columns_to_drop = zero_val_percent[zero_val_percent > threshold].index\n",
        "\n",
        "# Print the identified columns and the total count\n",
        "print(f\"Columns identified for dropping (greater than {threshold}% zeros):\")\n",
        "print(columns_to_drop)\n",
        "print(f\"Total columns to drop: {len(columns_to_drop)}\")"
      ]
    },
    {
      "cell_type": "code",
      "execution_count": 25,
      "metadata": {
        "colab": {
          "base_uri": "https://localhost:8080/"
        },
        "id": "BfPVZQ9gqiEJ",
        "outputId": "908d3f02-ef78-4dfc-e46d-340256f31ddc"
      },
      "outputs": [
        {
          "data": {
            "text/plain": [
              "(19093, 34)"
            ]
          },
          "execution_count": 25,
          "metadata": {},
          "output_type": "execute_result"
        }
      ],
      "source": [
        "# Drop identified columns\n",
        "df.drop(columns=columns_to_drop, inplace=True)\n",
        "\n",
        "df.shape"
      ]
    },
    {
      "cell_type": "code",
      "execution_count": 26,
      "metadata": {
        "id": "51P9jopXqiEJ"
      },
      "outputs": [],
      "source": [
        "# Identify numerical columns with more negative values\n",
        "negative_columns = [col for col in df.select_dtypes(include=['int64', 'float64']).columns if (df[col] < 0).mean() > 0.5]\n",
        "\n",
        "# Print the columns\n",
        "for col in negative_columns:\n",
        "    print(col)\n"
      ]
    },
    {
      "cell_type": "code",
      "execution_count": 27,
      "metadata": {
        "colab": {
          "base_uri": "https://localhost:8080/"
        },
        "id": "K6wlxCX5qiEJ",
        "outputId": "1762cea3-e247-4f30-c362-beceb684610d"
      },
      "outputs": [
        {
          "data": {
            "text/plain": [
              "(19093, 34)"
            ]
          },
          "execution_count": 27,
          "metadata": {},
          "output_type": "execute_result"
        }
      ],
      "source": [
        "# Drop the columns\n",
        "df = df.drop(columns=negative_columns)\n",
        "\n",
        "df.shape"
      ]
    },
    {
      "cell_type": "markdown",
      "metadata": {
        "id": "Oejz0Ot5qiEJ"
      },
      "source": [
        "### Check if any row in DF have negative value"
      ]
    },
    {
      "cell_type": "code",
      "execution_count": 28,
      "metadata": {
        "colab": {
          "base_uri": "https://localhost:8080/"
        },
        "id": "tap-dHiwqiEJ",
        "outputId": "85827a65-127e-4e0d-ba0e-15f4610e57fd"
      },
      "outputs": [
        {
          "name": "stdout",
          "output_type": "stream",
          "text": [
            "Number of rows with negative values in numerical columns: 3773\n",
            "Number of numerical columns with negative values: 3\n",
            "Numerical columns with negative values:\n",
            " Fwd Header Length\n",
            " Bwd Header Length\n",
            " min_seg_size_forward\n"
          ]
        }
      ],
      "source": [
        "# Select only numerical columns\n",
        "numerical_columns = df.select_dtypes(include=['int64', 'float64'])\n",
        "\n",
        "# Create a boolean DataFrame where True represents a negative value\n",
        "negative_values = numerical_columns < 0\n",
        "\n",
        "# Check if any record contains a negative value\n",
        "records_with_negative = df[negative_values.any(axis=1)]\n",
        "\n",
        "# Check if any record contains a negative value\n",
        "records_with_negative = df[negative_values.any(axis=1)]\n",
        "\n",
        "print(\"Number of rows with negative values in numerical columns:\", len(records_with_negative))\n",
        "\n",
        "# Check if any column contains a negative value\n",
        "columns_with_negative = numerical_columns.columns[(negative_values.any())]\n",
        "\n",
        "print(\"Number of numerical columns with negative values:\", len(columns_with_negative))\n",
        "\n",
        "print(\"Numerical columns with negative values:\")\n",
        "for column in columns_with_negative:\n",
        "    print(column)"
      ]
    },
    {
      "cell_type": "code",
      "execution_count": 29,
      "metadata": {
        "colab": {
          "base_uri": "https://localhost:8080/"
        },
        "id": "0Z4rN0_1qiEJ",
        "outputId": "bb5278aa-b126-4e81-9060-6bc144e4dd48"
      },
      "outputs": [
        {
          "data": {
            "text/plain": [
              "(15320, 34)"
            ]
          },
          "execution_count": 29,
          "metadata": {},
          "output_type": "execute_result"
        }
      ],
      "source": [
        "# Select only numerical columns\n",
        "numerical_columns = df.select_dtypes(include=['int64', 'float64'])\n",
        "\n",
        "# Create a boolean DataFrame where True represents a negative value\n",
        "negative_values = numerical_columns < 0\n",
        "\n",
        "# Drop rows with any negative values in numerical columns\n",
        "df = df[~negative_values.any(axis=1)]\n",
        "\n",
        "\n",
        "df.shape"
      ]
    },
    {
      "cell_type": "markdown",
      "metadata": {
        "id": "-_gfdW3xzXxX"
      },
      "source": [
        "## Frequency Counts for Categorical Variable"
      ]
    },
    {
      "cell_type": "code",
      "execution_count": 30,
      "metadata": {
        "colab": {
          "base_uri": "https://localhost:8080/"
        },
        "id": "o_bat7jkzcSE",
        "outputId": "73441c23-8974-48b9-9657-601c5d9586f2"
      },
      "outputs": [
        {
          "data": {
            "text/plain": [
              " Label\n",
              "BENIGN           8138\n",
              "DrDoS_DNS        1751\n",
              "DrDoS_NTP        1693\n",
              "Syn              1135\n",
              "DrDoS_NetBIOS    1054\n",
              "TFTP              615\n",
              "DrDoS_SSDP        424\n",
              "WebDDoS           339\n",
              "DrDoS_MSSQL       146\n",
              "DrDoS_LDAP         24\n",
              "DrDoS_UDP           1\n",
              "Name: count, dtype: int64"
            ]
          },
          "execution_count": 30,
          "metadata": {},
          "output_type": "execute_result"
        }
      ],
      "source": [
        "# Frequency counts for a single categorical column\n",
        "frequency_counts = df[' Label'].value_counts()\n",
        "\n",
        "frequency_counts"
      ]
    },
    {
      "cell_type": "code",
      "execution_count": 31,
      "metadata": {
        "colab": {
          "base_uri": "https://localhost:8080/"
        },
        "id": "sOMr1EDfbOuz",
        "outputId": "a28a397a-bc42-4e7a-f1b4-b28a924f6e33"
      },
      "outputs": [
        {
          "data": {
            "image/png": "[encoded data removed]",
            "text/plain": [
              "<Figure size 1200x800 with 1 Axes>"
            ]
          },
          "metadata": {},
          "output_type": "display_data"
        }
      ],
      "source": [
        "# Assuming 'label_counts' is a pandas Series with your frequency counts\n",
        "label_counts = df[' Label'].value_counts()\n",
        "\n",
        "# Generate as many colors as there are labels using a colormap\n",
        "colors = plt.cm.viridis(np.linspace(0, 1, len(label_counts)))\n",
        "\n",
        "# Create a bar chart with custom colors and a black line border around each bar\n",
        "plt.figure(figsize=(12, 8))\n",
        "bars = plt.bar(label_counts.index, label_counts.values, color=colors, edgecolor='black')\n",
        "\n",
        "# Add grid lines and place them behind the bars\n",
        "plt.grid(True, which='major', linestyle='--', linewidth='0.5', color='grey')\n",
        "plt.gca().set_axisbelow(True)\n",
        "\n",
        "# Use logarithmic scale for better visibility of small bars\n",
        "#plt.yscale('log')\n",
        "\n",
        "# Add labels for small values to make them visible\n",
        "for i, val in enumerate(label_counts):\n",
        "    plt.text(i, val, str(val), ha='center', va='bottom')\n",
        "\n",
        "# Add title and labels\n",
        "plt.title('Bar Chart of Label')\n",
        "plt.xlabel(' Label')\n",
        "plt.ylabel('Frequency ')\n",
        "\n",
        "# Rotate the x-axis labels for better readability\n",
        "plt.xticks(rotation=45, ha='right')\n",
        "\n",
        "# Create a legend (useful if colors have specific meanings)\n",
        "plt.legend(bars, label_counts.index, title=\"Types\", bbox_to_anchor=(1.05, 1), loc='upper left')\n",
        "\n",
        "# Apply tight layout to ensure no overlap of items\n",
        "plt.tight_layout()\n",
        "\n",
        "# Show the plot\n",
        "plt.show()\n"
      ]
    },
    {
      "cell_type": "markdown",
      "metadata": {
        "id": "OXmx-jIbqiEK"
      },
      "source": [
        "## Data Transformation Label Enconding - Binary Classification"
      ]
    },
    {
      "cell_type": "code",
      "execution_count": 32,
      "metadata": {
        "colab": {
          "base_uri": "https://localhost:8080/",
          "height": 348
        },
        "id": "UHp6IPNOqiEK",
        "outputId": "885b89fb-15b8-4307-bc51-7992df14a151"
      },
      "outputs": [
        {
          "name": "stdout",
          "output_type": "stream",
          "text": [
            " Label\n",
            "0    8138\n",
            "1    7182\n",
            "Name: count, dtype: int64\n"
          ]
        },
        {
          "data": {
            "text/html": [
              "<div>\n",
              "<style scoped>\n",
              "    .dataframe tbody tr th:only-of-type {\n",
              "        vertical-align: middle;\n",
              "    }\n",
              "\n",
              "    .dataframe tbody tr th {\n",
              "        vertical-align: top;\n",
              "    }\n",
              "\n",
              "    .dataframe thead th {\n",
              "        text-align: right;\n",
              "    }\n",
              "</style>\n",
              "<table border=\"1\" class=\"dataframe\">\n",
              "  <thead>\n",
              "    <tr style=\"text-align: right;\">\n",
              "      <th></th>\n",
              "      <th>Flow Duration</th>\n",
              "      <th>Total Fwd Packets</th>\n",
              "      <th>Total Backward Packets</th>\n",
              "      <th>Total Length of Fwd Packets</th>\n",
              "      <th>Fwd Packet Length Max</th>\n",
              "      <th>Fwd Packet Length Min</th>\n",
              "      <th>Fwd Packet Length Mean</th>\n",
              "      <th>Flow Bytes/s</th>\n",
              "      <th>Flow Packets/s</th>\n",
              "      <th>Flow IAT Mean</th>\n",
              "      <th>Flow IAT Std</th>\n",
              "      <th>Flow IAT Max</th>\n",
              "      <th>Flow IAT Min</th>\n",
              "      <th>Fwd IAT Mean</th>\n",
              "      <th>Fwd IAT Std</th>\n",
              "      <th>Fwd IAT Max</th>\n",
              "      <th>Fwd IAT Min</th>\n",
              "      <th>Fwd Header Length</th>\n",
              "      <th>Bwd Header Length</th>\n",
              "      <th>Fwd Packets/s</th>\n",
              "      <th>Bwd Packets/s</th>\n",
              "      <th>Min Packet Length</th>\n",
              "      <th>Max Packet Length</th>\n",
              "      <th>Packet Length Mean</th>\n",
              "      <th>Packet Length Std</th>\n",
              "      <th>Packet Length Variance</th>\n",
              "      <th>Average Packet Size</th>\n",
              "      <th>Avg Fwd Segment Size</th>\n",
              "      <th>Subflow Fwd Packets</th>\n",
              "      <th>Subflow Fwd Bytes</th>\n",
              "      <th>Subflow Bwd Packets</th>\n",
              "      <th>act_data_pkt_fwd</th>\n",
              "      <th>min_seg_size_forward</th>\n",
              "      <th>Label</th>\n",
              "    </tr>\n",
              "  </thead>\n",
              "  <tbody>\n",
              "    <tr>\n",
              "      <th>17</th>\n",
              "      <td>119819608</td>\n",
              "      <td>1014</td>\n",
              "      <td>196</td>\n",
              "      <td>0.0</td>\n",
              "      <td>0.0</td>\n",
              "      <td>0.0</td>\n",
              "      <td>0.0</td>\n",
              "      <td>0.000000e+00</td>\n",
              "      <td>10.098514</td>\n",
              "      <td>99106.375517</td>\n",
              "      <td>518739.438384</td>\n",
              "      <td>5975581.0</td>\n",
              "      <td>0.0</td>\n",
              "      <td>118281.942744</td>\n",
              "      <td>564765.187262</td>\n",
              "      <td>5975678.0</td>\n",
              "      <td>0.0</td>\n",
              "      <td>0</td>\n",
              "      <td>0</td>\n",
              "      <td>8.462722</td>\n",
              "      <td>1.635792</td>\n",
              "      <td>0.0</td>\n",
              "      <td>0.0</td>\n",
              "      <td>0.000000</td>\n",
              "      <td>0.000000</td>\n",
              "      <td>0.000000</td>\n",
              "      <td>0.000000</td>\n",
              "      <td>0.0</td>\n",
              "      <td>1014</td>\n",
              "      <td>0</td>\n",
              "      <td>196</td>\n",
              "      <td>0</td>\n",
              "      <td>0</td>\n",
              "      <td>1</td>\n",
              "    </tr>\n",
              "    <tr>\n",
              "      <th>22</th>\n",
              "      <td>5197051</td>\n",
              "      <td>10</td>\n",
              "      <td>7</td>\n",
              "      <td>408.0</td>\n",
              "      <td>68.0</td>\n",
              "      <td>0.0</td>\n",
              "      <td>40.8</td>\n",
              "      <td>1.631695e+02</td>\n",
              "      <td>3.271086</td>\n",
              "      <td>324815.687500</td>\n",
              "      <td>685737.423794</td>\n",
              "      <td>2316018.0</td>\n",
              "      <td>0.0</td>\n",
              "      <td>534259.444444</td>\n",
              "      <td>867597.998971</td>\n",
              "      <td>2316018.0</td>\n",
              "      <td>1.0</td>\n",
              "      <td>320</td>\n",
              "      <td>224</td>\n",
              "      <td>1.924168</td>\n",
              "      <td>1.346918</td>\n",
              "      <td>0.0</td>\n",
              "      <td>84.0</td>\n",
              "      <td>50.888889</td>\n",
              "      <td>33.768919</td>\n",
              "      <td>1140.339869</td>\n",
              "      <td>53.882353</td>\n",
              "      <td>40.8</td>\n",
              "      <td>10</td>\n",
              "      <td>408</td>\n",
              "      <td>7</td>\n",
              "      <td>5</td>\n",
              "      <td>32</td>\n",
              "      <td>1</td>\n",
              "    </tr>\n",
              "    <tr>\n",
              "      <th>23</th>\n",
              "      <td>37616</td>\n",
              "      <td>200</td>\n",
              "      <td>0</td>\n",
              "      <td>88000.0</td>\n",
              "      <td>440.0</td>\n",
              "      <td>440.0</td>\n",
              "      <td>440.0</td>\n",
              "      <td>2.339430e+06</td>\n",
              "      <td>5316.886431</td>\n",
              "      <td>189.025126</td>\n",
              "      <td>234.923358</td>\n",
              "      <td>1315.0</td>\n",
              "      <td>0.0</td>\n",
              "      <td>189.025126</td>\n",
              "      <td>234.923358</td>\n",
              "      <td>1315.0</td>\n",
              "      <td>0.0</td>\n",
              "      <td>5104</td>\n",
              "      <td>0</td>\n",
              "      <td>5316.886431</td>\n",
              "      <td>0.000000</td>\n",
              "      <td>440.0</td>\n",
              "      <td>440.0</td>\n",
              "      <td>440.000000</td>\n",
              "      <td>0.000000</td>\n",
              "      <td>0.000000</td>\n",
              "      <td>442.200000</td>\n",
              "      <td>440.0</td>\n",
              "      <td>200</td>\n",
              "      <td>88000</td>\n",
              "      <td>0</td>\n",
              "      <td>199</td>\n",
              "      <td>8</td>\n",
              "      <td>1</td>\n",
              "    </tr>\n",
              "    <tr>\n",
              "      <th>24</th>\n",
              "      <td>31111</td>\n",
              "      <td>200</td>\n",
              "      <td>0</td>\n",
              "      <td>88000.0</td>\n",
              "      <td>440.0</td>\n",
              "      <td>440.0</td>\n",
              "      <td>440.0</td>\n",
              "      <td>2.828582e+06</td>\n",
              "      <td>6428.594388</td>\n",
              "      <td>156.336683</td>\n",
              "      <td>169.640059</td>\n",
              "      <td>805.0</td>\n",
              "      <td>0.0</td>\n",
              "      <td>156.336683</td>\n",
              "      <td>169.640059</td>\n",
              "      <td>805.0</td>\n",
              "      <td>0.0</td>\n",
              "      <td>4048</td>\n",
              "      <td>0</td>\n",
              "      <td>6428.594388</td>\n",
              "      <td>0.000000</td>\n",
              "      <td>440.0</td>\n",
              "      <td>440.0</td>\n",
              "      <td>440.000000</td>\n",
              "      <td>0.000000</td>\n",
              "      <td>0.000000</td>\n",
              "      <td>442.200000</td>\n",
              "      <td>440.0</td>\n",
              "      <td>200</td>\n",
              "      <td>88000</td>\n",
              "      <td>0</td>\n",
              "      <td>199</td>\n",
              "      <td>8</td>\n",
              "      <td>1</td>\n",
              "    </tr>\n",
              "    <tr>\n",
              "      <th>25</th>\n",
              "      <td>31529</td>\n",
              "      <td>200</td>\n",
              "      <td>0</td>\n",
              "      <td>88000.0</td>\n",
              "      <td>440.0</td>\n",
              "      <td>440.0</td>\n",
              "      <td>440.0</td>\n",
              "      <td>2.791081e+06</td>\n",
              "      <td>6343.366425</td>\n",
              "      <td>158.437186</td>\n",
              "      <td>190.942412</td>\n",
              "      <td>1320.0</td>\n",
              "      <td>0.0</td>\n",
              "      <td>158.437186</td>\n",
              "      <td>190.942412</td>\n",
              "      <td>1320.0</td>\n",
              "      <td>0.0</td>\n",
              "      <td>2920</td>\n",
              "      <td>0</td>\n",
              "      <td>6343.366425</td>\n",
              "      <td>0.000000</td>\n",
              "      <td>440.0</td>\n",
              "      <td>440.0</td>\n",
              "      <td>440.000000</td>\n",
              "      <td>0.000000</td>\n",
              "      <td>0.000000</td>\n",
              "      <td>442.200000</td>\n",
              "      <td>440.0</td>\n",
              "      <td>200</td>\n",
              "      <td>88000</td>\n",
              "      <td>0</td>\n",
              "      <td>199</td>\n",
              "      <td>8</td>\n",
              "      <td>1</td>\n",
              "    </tr>\n",
              "  </tbody>\n",
              "</table>\n",
              "</div>"
            ],
            "text/plain": [
              "     Flow Duration   Total Fwd Packets   Total Backward Packets  Total Length of Fwd Packets   Fwd Packet Length Max   Fwd Packet Length Min   Fwd Packet Length Mean  Flow Bytes/s   Flow Packets/s   Flow IAT Mean   Flow IAT Std   Flow IAT Max   Flow IAT Min   Fwd IAT Mean    Fwd IAT Std   Fwd IAT Max   Fwd IAT Min   Fwd Header Length   Bwd Header Length  Fwd Packets/s   Bwd Packets/s   Min Packet Length   Max Packet Length   Packet Length Mean   Packet Length Std   Packet Length Variance   Average Packet Size   Avg Fwd Segment Size  Subflow Fwd Packets   Subflow Fwd Bytes   Subflow Bwd Packets   act_data_pkt_fwd   min_seg_size_forward   Label\n",
              "17       119819608                1014                  196                      0.0                          0.0                     0.0                     0.0      0.000000e+00        10.098514    99106.375517  518739.438384      5975581.0            0.0  118281.942744  564765.187262     5975678.0           0.0                   0                   0       8.462722        1.635792                 0.0                 0.0             0.000000            0.000000             0.000000                 0.000000                   0.0                   1014                   0                  196                   0                    0         1\n",
              "22         5197051                  10                    7                    408.0                         68.0                     0.0                    40.8      1.631695e+02         3.271086   324815.687500  685737.423794      2316018.0            0.0  534259.444444  867597.998971     2316018.0           1.0                 320                 224       1.924168        1.346918                 0.0                84.0            50.888889           33.768919          1140.339869                53.882353                  40.8                     10                 408                    7                   5                   32         1\n",
              "23           37616                 200                    0                  88000.0                        440.0                   440.0                   440.0      2.339430e+06      5316.886431      189.025126     234.923358         1315.0            0.0     189.025126     234.923358        1315.0           0.0                5104                   0    5316.886431        0.000000               440.0               440.0           440.000000            0.000000             0.000000               442.200000                 440.0                    200               88000                    0                 199                    8         1\n",
              "24           31111                 200                    0                  88000.0                        440.0                   440.0                   440.0      2.828582e+06      6428.594388      156.336683     169.640059          805.0            0.0     156.336683     169.640059         805.0           0.0                4048                   0    6428.594388        0.000000               440.0               440.0           440.000000            0.000000             0.000000               442.200000                 440.0                    200               88000                    0                 199                    8         1\n",
              "25           31529                 200                    0                  88000.0                        440.0                   440.0                   440.0      2.791081e+06      6343.366425      158.437186     190.942412         1320.0            0.0     158.437186     190.942412        1320.0           0.0                2920                   0    6343.366425        0.000000               440.0               440.0           440.000000            0.000000             0.000000               442.200000                 440.0                    200               88000                    0                 199                    8         1"
            ]
          },
          "execution_count": 32,
          "metadata": {},
          "output_type": "execute_result"
        }
      ],
      "source": [
        "# Assuming 'df_cleaned' is your pandas DataFrame and 'Label' is your target column\n",
        "df[' Label'] = df[' Label'].apply(lambda x: 0 if x == 'BENIGN' else 1)\n",
        "\n",
        "# Print out the value counts for confirmation\n",
        "print(df[' Label'].value_counts())\n",
        "\n",
        "df.head()"
      ]
    },
    {
      "cell_type": "code",
      "execution_count": 33,
      "metadata": {
        "colab": {
          "base_uri": "https://localhost:8080/",
          "height": 651
        },
        "id": "REvprGkKqiEK",
        "outputId": "71f11420-1c17-4abb-8d07-9c7bcd51f9fe"
      },
      "outputs": [
        {
          "name": "stderr",
          "output_type": "stream",
          "text": [
            "C:\\Users\\Nur Ayu Amira\\AppData\\Local\\Temp\\ipykernel_42868\\3855737629.py:8: FutureWarning: \n",
            "\n",
            "Passing `palette` without assigning `hue` is deprecated and will be removed in v0.14.0. Assign the `x` variable to `hue` and set `legend=False` for the same effect.\n",
            "\n",
            "  ax = sns.countplot(x=' Label', data=df, palette='coolwarm')\n"
          ]
        },
        {
          "data": {
            "image/png": "[encoded data removed]",
            "text/plain": [
              "<Figure size 800x600 with 1 Axes>"
            ]
          },
          "metadata": {},
          "output_type": "display_data"
        }
      ],
      "source": [
        "import matplotlib.pyplot as plt\n",
        "import seaborn as sns\n",
        "\n",
        "# Ensure your DataFrame 'df_cleaned' is ready with the 'Label' column set as per your previous code\n",
        "\n",
        "# Bar Chart with Annotations\n",
        "plt.figure(figsize=(8, 6))\n",
        "ax = sns.countplot(x=' Label', data=df, palette='coolwarm')\n",
        "plt.title('Distribution of Labels')\n",
        "plt.xlabel(' Label')\n",
        "plt.ylabel('Count')\n",
        "plt.xticks([0, 1], ['Benign (0)', 'DDoS (1)'])  # Adjusting based on your provided graph\n",
        "\n",
        "# Adding the count above each bar\n",
        "for p in ax.patches:\n",
        "    ax.annotate(f'{int(p.get_height()):,}', (p.get_x() + p.get_width() / 2., p.get_height()),\n",
        "                ha = 'center', va = 'center', xytext = (0, 10), textcoords = 'offset points')\n",
        "\n",
        "plt.show()\n"
      ]
    },
    {
      "cell_type": "markdown",
      "metadata": {
        "id": "EWRAKadPIO3L"
      },
      "source": [
        "## Data Standardization"
      ]
    },
    {
      "cell_type": "code",
      "execution_count": 34,
      "metadata": {
        "colab": {
          "base_uri": "https://localhost:8080/",
          "height": 278
        },
        "id": "Q7YPtiS0IRYW",
        "outputId": "9d99eb42-2ed5-43cf-b084-e646e8af80b6"
      },
      "outputs": [
        {
          "data": {
            "text/html": [
              "<div>\n",
              "<style scoped>\n",
              "    .dataframe tbody tr th:only-of-type {\n",
              "        vertical-align: middle;\n",
              "    }\n",
              "\n",
              "    .dataframe tbody tr th {\n",
              "        vertical-align: top;\n",
              "    }\n",
              "\n",
              "    .dataframe thead th {\n",
              "        text-align: right;\n",
              "    }\n",
              "</style>\n",
              "<table border=\"1\" class=\"dataframe\">\n",
              "  <thead>\n",
              "    <tr style=\"text-align: right;\">\n",
              "      <th></th>\n",
              "      <th>Flow Duration</th>\n",
              "      <th>Total Fwd Packets</th>\n",
              "      <th>Total Backward Packets</th>\n",
              "      <th>Total Length of Fwd Packets</th>\n",
              "      <th>Fwd Packet Length Max</th>\n",
              "      <th>Fwd Packet Length Min</th>\n",
              "      <th>Fwd Packet Length Mean</th>\n",
              "      <th>Flow Bytes/s</th>\n",
              "      <th>Flow Packets/s</th>\n",
              "      <th>Flow IAT Mean</th>\n",
              "      <th>Flow IAT Std</th>\n",
              "      <th>Flow IAT Max</th>\n",
              "      <th>Flow IAT Min</th>\n",
              "      <th>Fwd IAT Mean</th>\n",
              "      <th>Fwd IAT Std</th>\n",
              "      <th>Fwd IAT Max</th>\n",
              "      <th>Fwd IAT Min</th>\n",
              "      <th>Fwd Header Length</th>\n",
              "      <th>Bwd Header Length</th>\n",
              "      <th>Fwd Packets/s</th>\n",
              "      <th>Bwd Packets/s</th>\n",
              "      <th>Min Packet Length</th>\n",
              "      <th>Max Packet Length</th>\n",
              "      <th>Packet Length Mean</th>\n",
              "      <th>Packet Length Std</th>\n",
              "      <th>Packet Length Variance</th>\n",
              "      <th>Average Packet Size</th>\n",
              "      <th>Avg Fwd Segment Size</th>\n",
              "      <th>Subflow Fwd Packets</th>\n",
              "      <th>Subflow Fwd Bytes</th>\n",
              "      <th>Subflow Bwd Packets</th>\n",
              "      <th>act_data_pkt_fwd</th>\n",
              "      <th>min_seg_size_forward</th>\n",
              "      <th>Label</th>\n",
              "    </tr>\n",
              "  </thead>\n",
              "  <tbody>\n",
              "    <tr>\n",
              "      <th>0</th>\n",
              "      <td>3.393662</td>\n",
              "      <td>1.033095</td>\n",
              "      <td>3.110313</td>\n",
              "      <td>-0.067067</td>\n",
              "      <td>-0.480894</td>\n",
              "      <td>-0.468869</td>\n",
              "      <td>-0.539521</td>\n",
              "      <td>-0.295013</td>\n",
              "      <td>-0.344884</td>\n",
              "      <td>-0.321456</td>\n",
              "      <td>-0.264933</td>\n",
              "      <td>0.135462</td>\n",
              "      <td>-0.036383</td>\n",
              "      <td>-0.330575</td>\n",
              "      <td>-0.250917</td>\n",
              "      <td>0.151478</td>\n",
              "      <td>-0.035535</td>\n",
              "      <td>-0.147963</td>\n",
              "      <td>-0.093782</td>\n",
              "      <td>-0.340601</td>\n",
              "      <td>-0.073099</td>\n",
              "      <td>-0.467710</td>\n",
              "      <td>-0.362266</td>\n",
              "      <td>-0.588984</td>\n",
              "      <td>-0.336036</td>\n",
              "      <td>-0.078089</td>\n",
              "      <td>-0.539199</td>\n",
              "      <td>-0.539521</td>\n",
              "      <td>1.033095</td>\n",
              "      <td>-0.067067</td>\n",
              "      <td>3.110313</td>\n",
              "      <td>-0.265156</td>\n",
              "      <td>-0.311273</td>\n",
              "      <td>1</td>\n",
              "    </tr>\n",
              "    <tr>\n",
              "      <th>1</th>\n",
              "      <td>-0.214384</td>\n",
              "      <td>-0.029791</td>\n",
              "      <td>0.018220</td>\n",
              "      <td>-0.064379</td>\n",
              "      <td>-0.356842</td>\n",
              "      <td>-0.468869</td>\n",
              "      <td>-0.418382</td>\n",
              "      <td>-0.295013</td>\n",
              "      <td>-0.344897</td>\n",
              "      <td>-0.223580</td>\n",
              "      <td>-0.217076</td>\n",
              "      <td>-0.185590</td>\n",
              "      <td>-0.036383</td>\n",
              "      <td>-0.173160</td>\n",
              "      <td>-0.174845</td>\n",
              "      <td>-0.169739</td>\n",
              "      <td>-0.035534</td>\n",
              "      <td>-0.097212</td>\n",
              "      <td>0.050989</td>\n",
              "      <td>-0.340614</td>\n",
              "      <td>-0.073105</td>\n",
              "      <td>-0.467710</td>\n",
              "      <td>-0.291302</td>\n",
              "      <td>-0.443607</td>\n",
              "      <td>-0.183212</td>\n",
              "      <td>-0.076451</td>\n",
              "      <td>-0.429604</td>\n",
              "      <td>-0.418382</td>\n",
              "      <td>-0.029791</td>\n",
              "      <td>-0.064379</td>\n",
              "      <td>0.018220</td>\n",
              "      <td>-0.199450</td>\n",
              "      <td>0.019717</td>\n",
              "      <td>1</td>\n",
              "    </tr>\n",
              "    <tr>\n",
              "      <th>2</th>\n",
              "      <td>-0.376791</td>\n",
              "      <td>0.171353</td>\n",
              "      <td>-0.096302</td>\n",
              "      <td>0.512690</td>\n",
              "      <td>0.321799</td>\n",
              "      <td>0.838922</td>\n",
              "      <td>0.766883</td>\n",
              "      <td>-0.289897</td>\n",
              "      <td>-0.334849</td>\n",
              "      <td>-0.364350</td>\n",
              "      <td>-0.413522</td>\n",
              "      <td>-0.388658</td>\n",
              "      <td>-0.036383</td>\n",
              "      <td>-0.375264</td>\n",
              "      <td>-0.392727</td>\n",
              "      <td>-0.372905</td>\n",
              "      <td>-0.035535</td>\n",
              "      <td>0.661513</td>\n",
              "      <td>-0.093782</td>\n",
              "      <td>-0.330502</td>\n",
              "      <td>-0.073134</td>\n",
              "      <td>0.843292</td>\n",
              "      <td>0.009454</td>\n",
              "      <td>0.667986</td>\n",
              "      <td>-0.336036</td>\n",
              "      <td>-0.078089</td>\n",
              "      <td>0.360220</td>\n",
              "      <td>0.766883</td>\n",
              "      <td>0.171353</td>\n",
              "      <td>0.512690</td>\n",
              "      <td>-0.096302</td>\n",
              "      <td>2.349920</td>\n",
              "      <td>-0.228525</td>\n",
              "      <td>1</td>\n",
              "    </tr>\n",
              "    <tr>\n",
              "      <th>3</th>\n",
              "      <td>-0.376996</td>\n",
              "      <td>0.171353</td>\n",
              "      <td>-0.096302</td>\n",
              "      <td>0.512690</td>\n",
              "      <td>0.321799</td>\n",
              "      <td>0.838922</td>\n",
              "      <td>0.766883</td>\n",
              "      <td>-0.288827</td>\n",
              "      <td>-0.332747</td>\n",
              "      <td>-0.364364</td>\n",
              "      <td>-0.413541</td>\n",
              "      <td>-0.388703</td>\n",
              "      <td>-0.036383</td>\n",
              "      <td>-0.375276</td>\n",
              "      <td>-0.392743</td>\n",
              "      <td>-0.372950</td>\n",
              "      <td>-0.035535</td>\n",
              "      <td>0.494035</td>\n",
              "      <td>-0.093782</td>\n",
              "      <td>-0.328387</td>\n",
              "      <td>-0.073134</td>\n",
              "      <td>0.843292</td>\n",
              "      <td>0.009454</td>\n",
              "      <td>0.667986</td>\n",
              "      <td>-0.336036</td>\n",
              "      <td>-0.078089</td>\n",
              "      <td>0.360220</td>\n",
              "      <td>0.766883</td>\n",
              "      <td>0.171353</td>\n",
              "      <td>0.512690</td>\n",
              "      <td>-0.096302</td>\n",
              "      <td>2.349920</td>\n",
              "      <td>-0.228525</td>\n",
              "      <td>1</td>\n",
              "    </tr>\n",
              "    <tr>\n",
              "      <th>4</th>\n",
              "      <td>-0.376983</td>\n",
              "      <td>0.171353</td>\n",
              "      <td>-0.096302</td>\n",
              "      <td>0.512690</td>\n",
              "      <td>0.321799</td>\n",
              "      <td>0.838922</td>\n",
              "      <td>0.766883</td>\n",
              "      <td>-0.288909</td>\n",
              "      <td>-0.332908</td>\n",
              "      <td>-0.364363</td>\n",
              "      <td>-0.413535</td>\n",
              "      <td>-0.388658</td>\n",
              "      <td>-0.036383</td>\n",
              "      <td>-0.375275</td>\n",
              "      <td>-0.392738</td>\n",
              "      <td>-0.372905</td>\n",
              "      <td>-0.035535</td>\n",
              "      <td>0.315139</td>\n",
              "      <td>-0.093782</td>\n",
              "      <td>-0.328549</td>\n",
              "      <td>-0.073134</td>\n",
              "      <td>0.843292</td>\n",
              "      <td>0.009454</td>\n",
              "      <td>0.667986</td>\n",
              "      <td>-0.336036</td>\n",
              "      <td>-0.078089</td>\n",
              "      <td>0.360220</td>\n",
              "      <td>0.766883</td>\n",
              "      <td>0.171353</td>\n",
              "      <td>0.512690</td>\n",
              "      <td>-0.096302</td>\n",
              "      <td>2.349920</td>\n",
              "      <td>-0.228525</td>\n",
              "      <td>1</td>\n",
              "    </tr>\n",
              "  </tbody>\n",
              "</table>\n",
              "</div>"
            ],
            "text/plain": [
              "    Flow Duration   Total Fwd Packets   Total Backward Packets  Total Length of Fwd Packets   Fwd Packet Length Max   Fwd Packet Length Min   Fwd Packet Length Mean  Flow Bytes/s   Flow Packets/s   Flow IAT Mean   Flow IAT Std   Flow IAT Max   Flow IAT Min   Fwd IAT Mean   Fwd IAT Std   Fwd IAT Max   Fwd IAT Min   Fwd Header Length   Bwd Header Length  Fwd Packets/s   Bwd Packets/s   Min Packet Length   Max Packet Length   Packet Length Mean   Packet Length Std   Packet Length Variance   Average Packet Size   Avg Fwd Segment Size  Subflow Fwd Packets   Subflow Fwd Bytes   Subflow Bwd Packets   act_data_pkt_fwd   min_seg_size_forward   Label\n",
              "0        3.393662            1.033095             3.110313                -0.067067                    -0.480894               -0.468869               -0.539521         -0.295013        -0.344884       -0.321456      -0.264933       0.135462      -0.036383      -0.330575     -0.250917      0.151478     -0.035535           -0.147963           -0.093782      -0.340601       -0.073099           -0.467710           -0.362266            -0.588984           -0.336036            -0.078089                -0.539199             -0.539521               1.033095           -0.067067             3.110313           -0.265156            -0.311273         1\n",
              "1       -0.214384           -0.029791             0.018220                -0.064379                    -0.356842               -0.468869               -0.418382         -0.295013        -0.344897       -0.223580      -0.217076      -0.185590      -0.036383      -0.173160     -0.174845     -0.169739     -0.035534           -0.097212            0.050989      -0.340614       -0.073105           -0.467710           -0.291302            -0.443607           -0.183212            -0.076451                -0.429604             -0.418382              -0.029791           -0.064379             0.018220           -0.199450             0.019717         1\n",
              "2       -0.376791            0.171353            -0.096302                 0.512690                     0.321799                0.838922                0.766883         -0.289897        -0.334849       -0.364350      -0.413522      -0.388658      -0.036383      -0.375264     -0.392727     -0.372905     -0.035535            0.661513           -0.093782      -0.330502       -0.073134            0.843292            0.009454             0.667986           -0.336036            -0.078089                 0.360220              0.766883               0.171353            0.512690            -0.096302            2.349920            -0.228525         1\n",
              "3       -0.376996            0.171353            -0.096302                 0.512690                     0.321799                0.838922                0.766883         -0.288827        -0.332747       -0.364364      -0.413541      -0.388703      -0.036383      -0.375276     -0.392743     -0.372950     -0.035535            0.494035           -0.093782      -0.328387       -0.073134            0.843292            0.009454             0.667986           -0.336036            -0.078089                 0.360220              0.766883               0.171353            0.512690            -0.096302            2.349920            -0.228525         1\n",
              "4       -0.376983            0.171353            -0.096302                 0.512690                     0.321799                0.838922                0.766883         -0.288909        -0.332908       -0.364363      -0.413535      -0.388658      -0.036383      -0.375275     -0.392738     -0.372905     -0.035535            0.315139           -0.093782      -0.328549       -0.073134            0.843292            0.009454             0.667986           -0.336036            -0.078089                 0.360220              0.766883               0.171353            0.512690            -0.096302            2.349920            -0.228525         1"
            ]
          },
          "execution_count": 34,
          "metadata": {},
          "output_type": "execute_result"
        }
      ],
      "source": [
        "from sklearn.preprocessing import StandardScaler\n",
        "\n",
        "# Assuming 'df' is your pandas DataFrame and 'Label' is your target column\n",
        "X = df.drop(' Label', axis=1)  # Features\n",
        "y = df[' Label']               # Target\n",
        "\n",
        "# Initialize the StandardScaler\n",
        "scaler = StandardScaler()\n",
        "\n",
        "# Fit the StandardScaler on the features and transform\n",
        "X_scaled = scaler.fit_transform(X)\n",
        "\n",
        "# Create a new DataFrame with the scaled values\n",
        "df = pd.DataFrame(X_scaled, columns=X.columns)\n",
        "\n",
        "# Add the 'Label' column back into the DataFrame\n",
        "df[' Label'] = y.values\n",
        "\n",
        "# Now df_scaled is a DataFrame with the standardized features and original 'Label'\n",
        "df.head()\n"
      ]
    },
    {
      "cell_type": "markdown",
      "metadata": {
        "id": "9iSWEEzDclVW"
      },
      "source": [
        "## Data Balancing"
      ]
    },
    {
      "cell_type": "code",
      "execution_count": 35,
      "metadata": {
        "colab": {
          "base_uri": "https://localhost:8080/"
        },
        "id": "a-5Atq3XdciQ",
        "outputId": "3fb260c2-8bab-4a8a-aea4-8e566dd91510"
      },
      "outputs": [
        {
          "name": "stderr",
          "output_type": "stream",
          "text": [
            "C:\\Users\\Nur Ayu Amira\\AppData\\Local\\Temp\\ipykernel_42868\\2716107178.py:17: FutureWarning: \n",
            "\n",
            "Passing `palette` without assigning `hue` is deprecated and will be removed in v0.14.0. Assign the `x` variable to `hue` and set `legend=False` for the same effect.\n",
            "\n",
            "  ax = sns.countplot(x=' Label', data=df, palette='pastel')\n"
          ]
        },
        {
          "data": {
            "image/png": "[encoded data removed]",
            "text/plain": [
              "<Figure size 1000x600 with 1 Axes>"
            ]
          },
          "metadata": {},
          "output_type": "display_data"
        }
      ],
      "source": [
        "# Separate majority and minority classes\n",
        "df_majority = df[df[' Label'] == 0]\n",
        "df_minority = df[df[' Label'] == 1]\n",
        "\n",
        "# Define the desired sample size\n",
        "desired_sample_size = 7000  # Ensures the sample size is not more than the smallest class size\n",
        "\n",
        "# Undersample both classes to the desired sample size\n",
        "df_majority_undersampled = df_majority.sample(n=desired_sample_size, random_state=42)\n",
        "df_minority_undersampled = df_minority.sample(n=desired_sample_size, random_state=42)\n",
        "\n",
        "# Combine the undersampled majority and minority classes\n",
        "df = pd.concat([df_majority_undersampled, df_minority_undersampled])\n",
        "\n",
        "# Plot the balanced dataset\n",
        "plt.figure(figsize=(10, 6))\n",
        "ax = sns.countplot(x=' Label', data=df, palette='pastel')\n",
        "plt.title('Distribution of Labels (Balanced)')\n",
        "\n",
        "# Adding the count labels on top of the bars\n",
        "for p in ax.patches:\n",
        "    ax.annotate(f'{p.get_height()}', (p.get_x() + p.get_width() / 2., p.get_height()),\n",
        "                ha='center', va='baseline', fontsize=12, color='black', xytext=(0, 5),\n",
        "                textcoords='offset points')\n",
        "\n",
        "plt.xlabel('Label')\n",
        "plt.ylabel('Count')\n",
        "plt.xticks([0, 1], ['Benign (0)', 'DDoS (1)'])  # Adjusting based on your provided graph\n",
        "plt.show()"
      ]
    },
    {
      "cell_type": "markdown",
      "metadata": {
        "id": "LXgI4DXrPUfP"
      },
      "source": [
        "# Download Latest Dataset CSV"
      ]
    },
    {
      "cell_type": "code",
      "execution_count": 36,
      "metadata": {
        "colab": {
          "base_uri": "https://localhost:8080/"
        },
        "id": "XrF61yNEPaUY",
        "outputId": "0c23b66c-841d-4022-c129-1f8d2ec75a71"
      },
      "outputs": [
        {
          "name": "stdout",
          "output_type": "stream",
          "text": [
            "File saved as 'Cleaned_Dataset.csv'\n"
          ]
        }
      ],
      "source": [
        "# Save the DataFrame to a CSV file\n",
        "df.to_csv('Cleaned_Dataset.csv', index=False)\n",
        "\n",
        "print(\"File saved as 'Cleaned_Dataset.csv'\")\n"
      ]
    }
  ],
  "metadata": {
    "colab": {
      "collapsed_sections": [
        "NP6G6sOIqiED",
        "nnzJHk1NqiEG",
        "f4lmwR-xqiEH",
        "KQSOLCMDqiEH",
        "x-OqElmxqiEH",
        "4HUBjeF9qiEI",
        "tK2QoFZoqiEI",
        "F4LhQ9P6qiEJ",
        "Oejz0Ot5qiEJ",
        "vYFobbz62o7r",
        "-_gfdW3xzXxX",
        "OXmx-jIbqiEK"
      ],
      "provenance": []
    },
    "kernelspec": {
      "display_name": "Python 3",
      "language": "python",
      "name": "python3"
    },
    "language_info": {
      "codemirror_mode": {
        "name": "ipython",
        "version": 3
      },
      "file_extension": ".py",
      "mimetype": "text/x-python",
      "name": "python",
      "nbconvert_exporter": "python",
      "pygments_lexer": "ipython3",
      "version": "3.11.4"
    }
  },
  "nbformat": 4,
  "nbformat_minor": 0
}
